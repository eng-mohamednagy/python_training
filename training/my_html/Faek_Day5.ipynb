{
 "cells": [
  {
   "cell_type": "markdown",
   "metadata": {},
   "source": [
    "# Intermediate Python for Engineers Day 5"
   ]
  },
  {
   "cell_type": "markdown",
   "metadata": {},
   "source": [
    "Hi!"
   ]
  },
  {
   "cell_type": "markdown",
   "metadata": {},
   "source": [
    "## Session 5: System automation\n",
    "\n",
    "Session 5 gives you a tour of the amazing standard library and important 3rd-party tools for automating various systems-level tasks with Python:\n",
    "\n",
    "- Concurrency and parallelism: opportunities and gotchas; dask\n",
    "- Handling files & paths; dates, times, and IP addresses\n",
    "- Compression; cryptographic hashing of file contents\n",
    "- Automating local commands via subprocess\n",
    "- Process and system monitoring with psutil\n",
    "- Automatically creating config files via templating with Jinja2\n",
    "- Parsing various config files: JSON, YAML, INI, XML (topics on request)\n"
   ]
  },
  {
   "cell_type": "markdown",
   "metadata": {},
   "source": [
    "#### Please see the Zulip poll!"
   ]
  },
  {
   "cell_type": "code",
   "execution_count": 1,
   "metadata": {},
   "outputs": [],
   "source": [
    "from threading import Thread\n",
    "from time import sleep"
   ]
  },
  {
   "cell_type": "code",
   "execution_count": 2,
   "metadata": {},
   "outputs": [],
   "source": [
    "def myfunc(n: int):\n",
    "    sleep(n)"
   ]
  },
  {
   "cell_type": "code",
   "execution_count": 3,
   "metadata": {},
   "outputs": [],
   "source": [
    "t = Thread(target=myfunc, args=(10,))\n",
    "t.start()"
   ]
  },
  {
   "cell_type": "code",
   "execution_count": 4,
   "metadata": {},
   "outputs": [],
   "source": [
    "t.join()"
   ]
  },
  {
   "cell_type": "code",
   "execution_count": 8,
   "metadata": {},
   "outputs": [
    {
     "name": "stdout",
     "output_type": "stream",
     "text": [
      "Writing mythreads2.py\n"
     ]
    }
   ],
   "source": [
    "%%writefile mythreads2.py\n",
    "\n",
    "from threading import Thread\n",
    "\n",
    "count = 0\n",
    "def counter():\n",
    "    global count\n",
    "    for i in range(10**6):\n",
    "        count += 1\n",
    "        count -= 1\n",
    "    \n",
    "NUM_THREADS = 1000\n",
    "threads = [Thread(target=counter) for _ in range(NUM_THREADS)]\n",
    "[t.start() for t in threads]\n",
    "[t.join() for t in threads]\n",
    "print(count)"
   ]
  },
  {
   "cell_type": "code",
   "execution_count": 9,
   "metadata": {},
   "outputs": [],
   "source": [
    "## Conclusion: you can create 1k threads but not 10k"
   ]
  },
  {
   "cell_type": "code",
   "execution_count": 10,
   "metadata": {},
   "outputs": [],
   "source": [
    "import time\n",
    "def countdown(n):\n",
    "    while n > 0:\n",
    "        print('Down', n)\n",
    "        time.sleep(1)\n",
    "        n -= 1"
   ]
  },
  {
   "cell_type": "code",
   "execution_count": 11,
   "metadata": {},
   "outputs": [
    {
     "name": "stdout",
     "output_type": "stream",
     "text": [
      "Down 5\n",
      "Down 4\n",
      "Down 3\n",
      "Down 2\n",
      "Down 1\n"
     ]
    }
   ],
   "source": [
    "countdown(5)"
   ]
  },
  {
   "cell_type": "code",
   "execution_count": 30,
   "metadata": {},
   "outputs": [],
   "source": [
    "def countup(n):\n",
    "    i = 0\n",
    "    while i < n:\n",
    "        print('Up', i)\n",
    "        time.sleep(1)\n",
    "        i += 1"
   ]
  },
  {
   "cell_type": "code",
   "execution_count": 31,
   "metadata": {},
   "outputs": [
    {
     "name": "stdout",
     "output_type": "stream",
     "text": [
      "Up 0\n",
      "Up 1\n",
      "Up 2\n",
      "Up 3\n",
      "Up 4\n"
     ]
    }
   ],
   "source": [
    "countup(5)"
   ]
  },
  {
   "cell_type": "code",
   "execution_count": 36,
   "metadata": {},
   "outputs": [],
   "source": [
    "def countdown_gen(n):\n",
    "    while n > 0:\n",
    "        print('Down', n)\n",
    "        time.sleep(4)\n",
    "        n -= 1\n",
    "        yield\n",
    "\n",
    "def countup_gen(n):\n",
    "    i = 0\n",
    "    while i < n:\n",
    "        print('Up', i)\n",
    "        time.sleep(4)\n",
    "        i += 1\n",
    "        yield"
   ]
  },
  {
   "cell_type": "code",
   "execution_count": 37,
   "metadata": {},
   "outputs": [
    {
     "data": {
      "text/plain": [
       "<generator object countdown_gen at 0x7f1d0863d510>"
      ]
     },
     "execution_count": 37,
     "metadata": {},
     "output_type": "execute_result"
    }
   ],
   "source": [
    "countdown_gen(10)"
   ]
  },
  {
   "cell_type": "code",
   "execution_count": 38,
   "metadata": {},
   "outputs": [
    {
     "name": "stdout",
     "output_type": "stream",
     "text": [
      "Down 10\n",
      "Up 0\n",
      "Down 9\n",
      "Up 1\n",
      "Down 8\n",
      "Up 2\n",
      "Down 7\n",
      "Up 3\n",
      "Down 6\n",
      "Up 4\n",
      "Down 5\n",
      "Up 5\n",
      "Down 4\n",
      "Up 6\n",
      "Down 3\n",
      "Up 7\n",
      "Down 2\n",
      "Up 8\n",
      "Down 1\n",
      "Up 9\n"
     ]
    },
    {
     "data": {
      "text/plain": [
       "[(None, None),\n",
       " (None, None),\n",
       " (None, None),\n",
       " (None, None),\n",
       " (None, None),\n",
       " (None, None),\n",
       " (None, None),\n",
       " (None, None),\n",
       " (None, None),\n",
       " (None, None)]"
      ]
     },
     "execution_count": 38,
     "metadata": {},
     "output_type": "execute_result"
    }
   ],
   "source": [
    "list(zip(countdown_gen(10), countup_gen(10)))"
   ]
  },
  {
   "cell_type": "code",
   "execution_count": 39,
   "metadata": {},
   "outputs": [],
   "source": [
    "def countdown_gen_sol(n):\n",
    "    while n > 0:\n",
    "        print('Down', n)\n",
    "        yield n\n",
    "        n -= 1\n",
    "\n",
    "def countup_gen_sol(n):\n",
    "    x = 0\n",
    "    while x < n:\n",
    "        print('Up', x)\n",
    "        yield x\n",
    "        x += 1"
   ]
  },
  {
   "cell_type": "code",
   "execution_count": 40,
   "metadata": {},
   "outputs": [
    {
     "name": "stdout",
     "output_type": "stream",
     "text": [
      "Down 10\n",
      "Up 0\n",
      "Down 9\n",
      "Up 1\n",
      "Down 8\n",
      "Up 2\n",
      "Down 7\n",
      "Up 3\n",
      "Down 6\n",
      "Up 4\n",
      "Down 5\n",
      "Up 5\n",
      "Down 4\n",
      "Up 6\n",
      "Down 3\n",
      "Up 7\n",
      "Down 2\n",
      "Up 8\n",
      "Down 1\n",
      "Up 9\n"
     ]
    }
   ],
   "source": [
    "import time\n",
    "\n",
    "g1 = countdown_gen_sol(10)\n",
    "g2 = countup_gen_sol(10)\n",
    "\n",
    "for i in range(10):\n",
    "    next(g1)\n",
    "    next(g2)\n",
    "    time.sleep(0.99)"
   ]
  },
  {
   "cell_type": "code",
   "execution_count": 43,
   "metadata": {},
   "outputs": [],
   "source": [
    "### ASYNC Solution! ###"
   ]
  },
  {
   "cell_type": "code",
   "execution_count": 48,
   "metadata": {},
   "outputs": [],
   "source": [
    "import asyncio"
   ]
  },
  {
   "cell_type": "code",
   "execution_count": 49,
   "metadata": {},
   "outputs": [],
   "source": [
    "async def a_countdown_gen(n):\n",
    "    while n > 0:\n",
    "        print('Down', n)\n",
    "        n -= 1\n",
    "        await asyncio.sleep(1)\n",
    "\n",
    "async def a_countup_gen(n):\n",
    "    i = 0\n",
    "    while i < n:\n",
    "        print('Up', i)\n",
    "        await asyncio.sleep(1)\n",
    "        i += 1"
   ]
  },
  {
   "cell_type": "code",
   "execution_count": 50,
   "metadata": {},
   "outputs": [
    {
     "name": "stderr",
     "output_type": "stream",
     "text": [
      "<ipython-input-50-fd969fa4d739>:1: RuntimeWarning: coroutine 'countdown_gen' was never awaited\n",
      "  down = a_countdown_gen(5)\n",
      "RuntimeWarning: Enable tracemalloc to get the object allocation traceback\n"
     ]
    }
   ],
   "source": [
    "down = a_countdown_gen(5)"
   ]
  },
  {
   "cell_type": "code",
   "execution_count": 51,
   "metadata": {},
   "outputs": [
    {
     "data": {
      "text/plain": [
       "coroutine"
      ]
     },
     "execution_count": 51,
     "metadata": {},
     "output_type": "execute_result"
    }
   ],
   "source": [
    "type(down)"
   ]
  },
  {
   "cell_type": "code",
   "execution_count": 56,
   "metadata": {},
   "outputs": [
    {
     "name": "stdout",
     "output_type": "stream",
     "text": [
      "Processing /home/data/.cache/pip/wheels/b0/c9/96/a066ccd667d7b82ececb5bbdcf955e64f2c609d5a6c2353f30/curio-1.4-py3-none-any.whl\n",
      "Installing collected packages: curio\n",
      "Successfully installed curio-1.4\n"
     ]
    }
   ],
   "source": [
    "!pip install curio"
   ]
  },
  {
   "cell_type": "code",
   "execution_count": 57,
   "metadata": {},
   "outputs": [
    {
     "name": "stdout",
     "output_type": "stream",
     "text": [
      "Overwriting fib_in_process.py\n"
     ]
    }
   ],
   "source": [
    "%%writefile fib_in_process.py\n",
    "\n",
    "import curio\n",
    "\n",
    "def fib(n):\n",
    "    if n <= 2:\n",
    "       return 1\n",
    "    else:\n",
    "       return fib(n-1) + fib(n-2)\n",
    "\n",
    "async def main():\n",
    "    result = await curio.run_in_process(fib, 40)\n",
    "    print(result)\n",
    "\n",
    "curio.run(main())"
   ]
  },
  {
   "cell_type": "code",
   "execution_count": 58,
   "metadata": {
    "collapsed": true,
    "jupyter": {
     "outputs_hidden": true
    }
   },
   "outputs": [
    {
     "name": "stdout",
     "output_type": "stream",
     "text": [
      "Traceback (most recent call last):\n",
      "  File \"/opt/conda/lib/python3.8/site-packages/curio/kernel.py\", line 823, in run\n",
      "    return kernel.run(corofunc, *args)\n",
      "  File \"/opt/conda/lib/python3.8/site-packages/curio/kernel.py\", line 173, in run\n",
      "    raise ret_exc\n",
      "  File \"/opt/conda/lib/python3.8/site-packages/curio/kernel.py\", line 737, in kernel_run\n",
      "    trap = current.send(current._trap_result)\n",
      "  File \"/opt/conda/lib/python3.8/site-packages/curio/task.py\", line 167, in send\n",
      "    return self._send(value)\n",
      "  File \"/opt/conda/lib/python3.8/site-packages/curio/task.py\", line 171, in _task_runner\n",
      "    return await coro\n",
      "  File \"/home/jovyan/fib_in_process.py\", line 11, in main\n",
      "    result = await curio.run_in_process(fib, 40)\n",
      "  File \"/opt/conda/lib/python3.8/site-packages/curio/workers.py\", line 213, in run_in_process\n",
      "    return await worker.apply(callable, args)\n",
      "  File \"/opt/conda/lib/python3.8/site-packages/curio/workers.py\", line 381, in apply\n",
      "    self._launch()\n",
      "  File \"/opt/conda/lib/python3.8/site-packages/curio/workers.py\", line 351, in _launch\n",
      "    self.process.start()\n",
      "  File \"/opt/conda/lib/python3.8/multiprocessing/process.py\", line 121, in start\n",
      "    self._popen = self._Popen(self)\n",
      "  File \"/opt/conda/lib/python3.8/multiprocessing/context.py\", line 284, in _Popen\n",
      "    return Popen(process_obj)\n",
      "  File \"/opt/conda/lib/python3.8/multiprocessing/popen_spawn_posix.py\", line 32, in __init__\n",
      "    super().__init__(process_obj)\n",
      "  File \"/opt/conda/lib/python3.8/multiprocessing/popen_fork.py\", line 19, in __init__\n",
      "    self._launch(process_obj)\n",
      "  File \"/opt/conda/lib/python3.8/multiprocessing/popen_spawn_posix.py\", line 42, in _launch\n",
      "    prep_data = spawn.get_preparation_data(process_obj._name)\n",
      "  File \"/opt/conda/lib/python3.8/multiprocessing/spawn.py\", line 154, in get_preparation_data\n",
      "    _check_not_importing_main()\n",
      "  File \"/opt/conda/lib/python3.8/multiprocessing/spawn.py\", line 134, in _check_not_importing_main\n",
      "    raise RuntimeError('''\n",
      "RuntimeError: \n",
      "        An attempt has been made to start a new process before the\n",
      "        current process has finished its bootstrapping phase.\n",
      "\n",
      "        This probably means that you are not using fork to start your\n",
      "        child processes and you have forgotten to use the proper idiom\n",
      "        in the main module:\n",
      "\n",
      "            if __name__ == '__main__':\n",
      "                freeze_support()\n",
      "                ...\n",
      "\n",
      "        The \"freeze_support()\" line can be omitted if the program\n",
      "        is not going to be frozen to produce an executable.\n",
      "\n",
      "During handling of the above exception, another exception occurred:\n",
      "\n",
      "Traceback (most recent call last):\n",
      "  File \"<string>\", line 1, in <module>\n",
      "  File \"/opt/conda/lib/python3.8/multiprocessing/spawn.py\", line 116, in spawn_main\n",
      "    exitcode = _main(fd, parent_sentinel)\n",
      "  File \"/opt/conda/lib/python3.8/multiprocessing/spawn.py\", line 125, in _main\n",
      "    prepare(preparation_data)\n",
      "  File \"/opt/conda/lib/python3.8/multiprocessing/spawn.py\", line 236, in prepare\n",
      "    _fixup_main_from_path(data['init_main_from_path'])\n",
      "  File \"/opt/conda/lib/python3.8/multiprocessing/spawn.py\", line 287, in _fixup_main_from_path\n",
      "    main_content = runpy.run_path(main_path,\n",
      "  File \"/opt/conda/lib/python3.8/runpy.py\", line 265, in run_path\n",
      "    return _run_module_code(code, init_globals, run_name,\n",
      "  File \"/opt/conda/lib/python3.8/runpy.py\", line 97, in _run_module_code\n",
      "    _run_code(code, mod_globals, init_globals,\n",
      "  File \"/opt/conda/lib/python3.8/runpy.py\", line 87, in _run_code\n",
      "    exec(code, run_globals)\n",
      "  File \"/home/jovyan/fib_in_process.py\", line 14, in <module>\n",
      "    curio.run(main())\n",
      "  File \"/opt/conda/lib/python3.8/site-packages/curio/kernel.py\", line 823, in run\n",
      "    return kernel.run(corofunc, *args)\n",
      "  File \"/opt/conda/lib/python3.8/site-packages/curio/kernel.py\", line 124, in __exit__\n",
      "    self.run(shutdown=True)\n",
      "  File \"/opt/conda/lib/python3.8/site-packages/curio/kernel.py\", line 169, in run\n",
      "    func()\n",
      "  File \"/opt/conda/lib/python3.8/site-packages/curio/workers.py\", line 464, in shutdown\n",
      "    worker.shutdown()\n",
      "  File \"/opt/conda/lib/python3.8/site-packages/curio/workers.py\", line 358, in shutdown\n",
      "    self.process.terminate()\n",
      "  File \"/opt/conda/lib/python3.8/multiprocessing/process.py\", line 133, in terminate\n",
      "    self._popen.terminate()\n",
      "AttributeError: 'NoneType' object has no attribute 'terminate'\n",
      "Exception ignored in: <function Kernel.__del__ at 0x7fbeabff3550>\n",
      "Traceback (most recent call last):\n",
      "  File \"/opt/conda/lib/python3.8/site-packages/curio/kernel.py\", line 116, in __del__\n",
      "RuntimeError: Curio kernel not properly terminated.  Please use Kernel.run(shutdown=True)\n",
      "Traceback (most recent call last):\n",
      "  File \"fib_in_process.py\", line 14, in <module>\n",
      "    curio.run(main())\n",
      "  File \"/opt/conda/lib/python3.8/site-packages/curio/kernel.py\", line 823, in run\n",
      "    return kernel.run(corofunc, *args)\n",
      "  File \"/opt/conda/lib/python3.8/site-packages/curio/kernel.py\", line 173, in run\n",
      "    raise ret_exc\n",
      "  File \"/opt/conda/lib/python3.8/site-packages/curio/kernel.py\", line 737, in kernel_run\n",
      "    trap = current.send(current._trap_result)\n",
      "  File \"/opt/conda/lib/python3.8/site-packages/curio/task.py\", line 167, in send\n",
      "    return self._send(value)\n",
      "  File \"/opt/conda/lib/python3.8/site-packages/curio/task.py\", line 171, in _task_runner\n",
      "    return await coro\n",
      "  File \"fib_in_process.py\", line 11, in main\n",
      "    result = await curio.run_in_process(fib, 40)\n",
      "  File \"/opt/conda/lib/python3.8/site-packages/curio/workers.py\", line 213, in run_in_process\n",
      "    return await worker.apply(callable, args)\n",
      "  File \"/opt/conda/lib/python3.8/site-packages/curio/workers.py\", line 386, in apply\n",
      "    success, result = await self.client_ch.recv()\n",
      "  File \"/opt/conda/lib/python3.8/site-packages/curio/channel.py\", line 165, in recv\n",
      "    msg = await self.recv_bytes()\n",
      "  File \"/opt/conda/lib/python3.8/site-packages/curio/channel.py\", line 126, in recv_bytes\n",
      "    header = await self._reader.read_exactly(4)\n",
      "  File \"/opt/conda/lib/python3.8/site-packages/curio/io.py\", line 376, in read_exactly\n",
      "    chunk = await self.read(nbytes)\n",
      "  File \"/opt/conda/lib/python3.8/site-packages/curio/io.py\", line 351, in read\n",
      "    data = await self._read(maxbytes)\n",
      "  File \"/opt/conda/lib/python3.8/site-packages/curio/io.py\", line 537, in _read\n",
      "    data = self._file_read(maxbytes)\n",
      "ConnectionResetError: [Errno 104] Connection reset by peer\n"
     ]
    }
   ],
   "source": [
    "!python fib_in_process.py\n"
   ]
  },
  {
   "cell_type": "code",
   "execution_count": 54,
   "metadata": {
    "collapsed": true,
    "jupyter": {
     "outputs_hidden": true
    }
   },
   "outputs": [
    {
     "name": "stdout",
     "output_type": "stream",
     "text": [
      "{'Meta Data': {'1. Information': 'Daily Time Series with Splits and Dividend Events', '2. Symbol': 'TSLA', '3. Last Refreshed': '2020-10-22', '4. Output Size': 'Compact', '5. Time Zone': 'US/Eastern'}, 'Time Series (Daily)': {'2020-10-22': {'1. open': '441.9200', '2. high': '445.2300', '3. low': '424.5100', '4. close': '425.7900', '5. adjusted close': '425.7900', '6. volume': '39993191', '7. dividend amount': '0.0000', '8. split coefficient': '1.0'}, '2020-10-21': {'1. open': '422.7000', '2. high': '432.9500', '3. low': '421.2500', '4. close': '422.6400', '5. adjusted close': '422.6400', '6. volume': '32370461', '7. dividend amount': '0.0000', '8. split coefficient': '1.0'}, '2020-10-20': {'1. open': '431.7500', '2. high': '431.7500', '3. low': '419.0501', '4. close': '421.9400', '5. adjusted close': '421.9400', '6. volume': '31656289', '7. dividend amount': '0.0000', '8. split coefficient': '1.0'}, '2020-10-19': {'1. open': '446.2400', '2. high': '447.0000', '3. low': '428.8700', '4. close': '430.8300', '5. adjusted close': '430.8300', '6. volume': '36287843', '7. dividend amount': '0.0000', '8. split coefficient': '1.0'}, '2020-10-16': {'1. open': '454.4400', '2. high': '455.9499', '3. low': '438.8500', '4. close': '439.6700', '5. adjusted close': '439.6700', '6. volume': '32775879', '7. dividend amount': '0.0000', '8. split coefficient': '1.0'}, '2020-10-15': {'1. open': '450.3100', '2. high': '456.5700', '3. low': '442.5000', '4. close': '448.8800', '5. adjusted close': '448.8800', '6. volume': '35672354', '7. dividend amount': '0.0000', '8. split coefficient': '1.0'}, '2020-10-14': {'1. open': '449.7800', '2. high': '465.9000', '3. low': '447.3500', '4. close': '461.3000', '5. adjusted close': '461.3000', '6. volume': '48045394', '7. dividend amount': '0.0000', '8. split coefficient': '1.0'}, '2020-10-13': {'1. open': '443.3500', '2. high': '448.8900', '3. low': '436.6000', '4. close': '446.6500', '5. adjusted close': '446.6500', '6. volume': '34463665', '7. dividend amount': '0.0000', '8. split coefficient': '1.0'}, '2020-10-12': {'1. open': '442.0000', '2. high': '448.7400', '3. low': '438.5800', '4. close': '442.3000', '5. adjusted close': '442.3000', '6. volume': '38791133', '7. dividend amount': '0.0000', '8. split coefficient': '1.0'}, '2020-10-09': {'1. open': '430.1300', '2. high': '434.5899', '3. low': '426.4601', '4. close': '434.0000', '5. adjusted close': '434.0000', '6. volume': '28925656', '7. dividend amount': '0.0000', '8. split coefficient': '1.0'}, '2020-10-08': {'1. open': '438.4400', '2. high': '439.0000', '3. low': '425.3000', '4. close': '425.9200', '5. adjusted close': '425.9200', '6. volume': '40421116', '7. dividend amount': '0.0000', '8. split coefficient': '1.0'}, '2020-10-07': {'1. open': '419.8700', '2. high': '429.9000', '3. low': '413.8450', '4. close': '425.3000', '5. adjusted close': '425.3000', '6. volume': '43127709', '7. dividend amount': '0.0000', '8. split coefficient': '1.0'}, '2020-10-06': {'1. open': '423.7900', '2. high': '428.7799', '3. low': '406.0500', '4. close': '413.9800', '5. adjusted close': '413.9800', '6. volume': '49146259', '7. dividend amount': '0.0000', '8. split coefficient': '1.0'}, '2020-10-05': {'1. open': '423.3500', '2. high': '433.6400', '3. low': '419.3300', '4. close': '425.6800', '5. adjusted close': '425.6800', '6. volume': '44722786', '7. dividend amount': '0.0000', '8. split coefficient': '1.0'}, '2020-10-02': {'1. open': '421.3900', '2. high': '439.1300', '3. low': '415.0000', '4. close': '415.0900', '5. adjusted close': '415.0900', '6. volume': '71430025', '7. dividend amount': '0.0000', '8. split coefficient': '1.0'}, '2020-10-01': {'1. open': '440.7600', '2. high': '448.8800', '3. low': '434.4200', '4. close': '448.1600', '5. adjusted close': '448.1600', '6. volume': '50741454', '7. dividend amount': '0.0000', '8. split coefficient': '1.0'}, '2020-09-30': {'1. open': '421.3200', '2. high': '433.9300', '3. low': '420.4700', '4. close': '429.0100', '5. adjusted close': '429.0100', '6. volume': '48145566', '7. dividend amount': '0.0000', '8. split coefficient': '1.0'}, '2020-09-29': {'1. open': '416.0000', '2. high': '428.5000', '3. low': '411.6000', '4. close': '419.0700', '5. adjusted close': '419.0700', '6. volume': '50341404', '7. dividend amount': '0.0000', '8. split coefficient': '1.0'}, '2020-09-28': {'1. open': '424.6200', '2. high': '428.0800', '3. low': '415.5500', '4. close': '421.2000', '5. adjusted close': '421.2000', '6. volume': '49719561', '7. dividend amount': '0.0000', '8. split coefficient': '1.0'}, '2020-09-25': {'1. open': '393.4700', '2. high': '408.7323', '3. low': '391.3000', '4. close': '407.3400', '5. adjusted close': '407.3400', '6. volume': '67208459', '7. dividend amount': '0.0000', '8. split coefficient': '1.0'}, '2020-09-24': {'1. open': '363.8000', '2. high': '399.5000', '3. low': '351.3000', '4. close': '387.7900', '5. adjusted close': '387.7900', '6. volume': '96561061', '7. dividend amount': '0.0000', '8. split coefficient': '1.0'}, '2020-09-23': {'1. open': '405.1600', '2. high': '412.1500', '3. low': '375.8801', '4. close': '380.3600', '5. adjusted close': '380.3600', '6. volume': '95074176', '7. dividend amount': '0.0000', '8. split coefficient': '1.0'}, '2020-09-22': {'1. open': '429.6000', '2. high': '437.7600', '3. low': '417.6001', '4. close': '424.2300', '5. adjusted close': '424.2300', '6. volume': '79580795', '7. dividend amount': '0.0000', '8. split coefficient': '1.0'}, '2020-09-21': {'1. open': '453.1300', '2. high': '455.6800', '3. low': '407.0700', '4. close': '449.3900', '5. adjusted close': '449.3900', '6. volume': '109476800', '7. dividend amount': '0.0000', '8. split coefficient': '1.0'}, '2020-09-18': {'1. open': '447.9400', '2. high': '451.0000', '3. low': '428.8000', '4. close': '442.1500', '5. adjusted close': '442.1500', '6. volume': '86406819', '7. dividend amount': '0.0000', '8. split coefficient': '1.0'}, '2020-09-17': {'1. open': '415.6000', '2. high': '437.7900', '3. low': '408.0001', '4. close': '423.4300', '5. adjusted close': '423.4300', '6. volume': '76779163', '7. dividend amount': '0.0000', '8. split coefficient': '1.0'}, '2020-09-16': {'1. open': '439.8700', '2. high': '457.7900', '3. low': '435.3100', '4. close': '441.7600', '5. adjusted close': '441.7600', '6. volume': '72546760', '7. dividend amount': '0.0000', '8. split coefficient': '1.0'}, '2020-09-15': {'1. open': '436.5600', '2. high': '461.9400', '3. low': '430.7000', '4. close': '449.7600', '5. adjusted close': '449.7600', '6. volume': '97298228', '7. dividend amount': '0.0000', '8. split coefficient': '1.0'}, '2020-09-14': {'1. open': '380.9500', '2. high': '420.0000', '3. low': '373.3000', '4. close': '419.6200', '5. adjusted close': '419.6200', '6. volume': '83020608', '7. dividend amount': '0.0000', '8. split coefficient': '1.0'}, '2020-09-11': {'1. open': '381.9400', '2. high': '382.5000', '3. low': '360.5000', '4. close': '372.7200', '5. adjusted close': '372.7200', '6. volume': '60717459', '7. dividend amount': '0.0000', '8. split coefficient': '1.0'}, '2020-09-10': {'1. open': '386.2100', '2. high': '398.9900', '3. low': '360.5600', '4. close': '371.3400', '5. adjusted close': '371.3400', '6. volume': '84930608', '7. dividend amount': '0.0000', '8. split coefficient': '1.0'}, '2020-09-09': {'1. open': '356.6000', '2. high': '369.0000', '3. low': '341.5100', '4. close': '366.2800', '5. adjusted close': '366.2800', '6. volume': '79465769', '7. dividend amount': '0.0000', '8. split coefficient': '1.0'}, '2020-09-08': {'1. open': '356.0000', '2. high': '368.7400', '3. low': '329.8800', '4. close': '330.2100', '5. adjusted close': '330.2100', '6. volume': '115465691', '7. dividend amount': '0.0000', '8. split coefficient': '1.0'}, '2020-09-04': {'1. open': '402.8100', '2. high': '428.0000', '3. low': '372.0201', '4. close': '418.3200', '5. adjusted close': '418.3200', '6. volume': '110321885', '7. dividend amount': '0.0000', '8. split coefficient': '1.0'}, '2020-09-03': {'1. open': '407.2300', '2. high': '431.8000', '3. low': '402.0000', '4. close': '407.0000', '5. adjusted close': '407.0000', '6. volume': '87596086', '7. dividend amount': '0.0000', '8. split coefficient': '1.0'}, '2020-09-02': {'1. open': '478.9900', '2. high': '479.0400', '3. low': '405.1206', '4. close': '447.3700', '5. adjusted close': '447.3700', '6. volume': '96176128', '7. dividend amount': '0.0000', '8. split coefficient': '1.0'}, '2020-09-01': {'1. open': '502.1400', '2. high': '502.4900', '3. low': '470.5100', '4. close': '475.0500', '5. adjusted close': '475.0500', '6. volume': '90119419', '7. dividend amount': '0.0000', '8. split coefficient': '1.0'}, '2020-08-31': {'1. open': '444.6100', '2. high': '500.1400', '3. low': '440.1100', '4. close': '498.3200', '5. adjusted close': '498.3200', '6. volume': '115847020', '7. dividend amount': '0.0000', '8. split coefficient': '5.0'}, '2020-08-28': {'1. open': '2295.1200', '2. high': '2318.4900', '3. low': '2186.5200', '4. close': '2213.4000', '5. adjusted close': '442.6800', '6. volume': '20081176', '7. dividend amount': '0.0000', '8. split coefficient': '1.0'}, '2020-08-27': {'1. open': '2180.4600', '2. high': '2295.6000', '3. low': '2142.5000', '4. close': '2238.7500', '5. adjusted close': '447.7500', '6. volume': '23693043', '7. dividend amount': '0.0000', '8. split coefficient': '1.0'}, '2020-08-26': {'1. open': '2060.0000', '2. high': '2166.0000', '3. low': '2053.6291', '4. close': '2153.1700', '5. adjusted close': '430.6340', '6. volume': '14239382', '7. dividend amount': '0.0000', '8. split coefficient': '1.0'}, '2020-08-25': {'1. open': '1974.8900', '2. high': '2027.9500', '3. low': '1968.0000', '4. close': '2023.3400', '5. adjusted close': '404.6680', '6. volume': '10658893', '7. dividend amount': '0.0000', '8. split coefficient': '1.0'}, '2020-08-24': {'1. open': '2126.2750', '2. high': '2129.0000', '3. low': '1927.5200', '4. close': '2014.2000', '5. adjusted close': '402.8400', '6. volume': '20063621', '7. dividend amount': '0.0000', '8. split coefficient': '1.0'}, '2020-08-21': {'1. open': '2044.7600', '2. high': '2095.4900', '3. low': '2025.0500', '4. close': '2049.9800', '5. adjusted close': '409.9960', '6. volume': '21489559', '7. dividend amount': '0.0000', '8. split coefficient': '1.0'}, '2020-08-20': {'1. open': '1860.6800', '2. high': '2021.9900', '3. low': '1857.0600', '4. close': '2001.8300', '5. adjusted close': '400.3660', '6. volume': '20611796', '7. dividend amount': '0.0000', '8. split coefficient': '1.0'}, '2020-08-19': {'1. open': '1865.0000', '2. high': '1911.0000', '3. low': '1841.2100', '4. close': '1878.5300', '5. adjusted close': '375.7060', '6. volume': '12205331', '7. dividend amount': '0.0000', '8. split coefficient': '1.0'}, '2020-08-18': {'1. open': '1898.9900', '2. high': '1923.9000', '3. low': '1845.1100', '4. close': '1887.0900', '5. adjusted close': '377.4180', '6. volume': '16474491', '7. dividend amount': '0.0000', '8. split coefficient': '1.0'}, '2020-08-17': {'1. open': '1677.0000', '2. high': '1845.8600', '3. low': '1672.8300', '4. close': '1835.6400', '5. adjusted close': '367.1280', '6. volume': '20023104', '7. dividend amount': '0.0000', '8. split coefficient': '1.0'}, '2020-08-14': {'1. open': '1664.9900', '2. high': '1668.8000', '3. low': '1626.6400', '4. close': '1650.7100', '5. adjusted close': '330.1420', '6. volume': '12577614', '7. dividend amount': '0.0000', '8. split coefficient': '1.0'}, '2020-08-13': {'1. open': '1611.0000', '2. high': '1651.1800', '3. low': '1567.2600', '4. close': '1621.0000', '5. adjusted close': '324.2000', '6. volume': '20425308', '7. dividend amount': '0.0000', '8. split coefficient': '1.0'}, '2020-08-12': {'1. open': '1470.0000', '2. high': '1585.0000', '3. low': '1435.0000', '4. close': '1554.7600', '5. adjusted close': '310.9520', '6. volume': '21898834', '7. dividend amount': '0.0000', '8. split coefficient': '1.0'}, '2020-08-11': {'1. open': '1396.0000', '2. high': '1420.0000', '3. low': '1365.0000', '4. close': '1374.3900', '5. adjusted close': '274.8780', '6. volume': '8625834', '7. dividend amount': '0.0000', '8. split coefficient': '1.0'}, '2020-08-10': {'1. open': '1448.0000', '2. high': '1457.5000', '3. low': '1385.8400', '4. close': '1418.5700', '5. adjusted close': '283.7140', '6. volume': '7522264', '7. dividend amount': '0.0000', '8. split coefficient': '1.0'}, '2020-08-07': {'1. open': '1499.5365', '2. high': '1499.7500', '3. low': '1415.0100', '4. close': '1452.7100', '5. adjusted close': '290.5420', '6. volume': '8896420', '7. dividend amount': '0.0000', '8. split coefficient': '1.0'}, '2020-08-06': {'1. open': '1490.8300', '2. high': '1517.3100', '3. low': '1477.2600', '4. close': '1489.5800', '5. adjusted close': '297.9160', '6. volume': '5992313', '7. dividend amount': '0.0000', '8. split coefficient': '1.0'}, '2020-08-05': {'1. open': '1492.9900', '2. high': '1499.8384', '3. low': '1468.3100', '4. close': '1485.0200', '5. adjusted close': '297.0040', '6. volume': '4978015', '7. dividend amount': '0.0000', '8. split coefficient': '1.0'}, '2020-08-04': {'1. open': '1495.0100', '2. high': '1527.4100', '3. low': '1462.0000', '4. close': '1487.0000', '5. adjusted close': '297.4000', '6. volume': '8414990', '7. dividend amount': '0.0000', '8. split coefficient': '1.0'}, '2020-08-03': {'1. open': '1449.2000', '2. high': '1509.8101', '3. low': '1444.3844', '4. close': '1485.0000', '5. adjusted close': '297.0000', '6. volume': '8809346', '7. dividend amount': '0.0000', '8. split coefficient': '1.0'}, '2020-07-31': {'1. open': '1515.0000', '2. high': '1517.0500', '3. low': '1420.9800', '4. close': '1430.7600', '5. adjusted close': '286.1520', '6. volume': '12246960', '7. dividend amount': '0.0000', '8. split coefficient': '1.0'}, '2020-07-30': {'1. open': '1488.0000', '2. high': '1513.2400', '3. low': '1471.0000', '4. close': '1487.4900', '5. adjusted close': '297.4980', '6. volume': '7621039', '7. dividend amount': '0.0000', '8. split coefficient': '1.0'}, '2020-07-29': {'1. open': '1501.0000', '2. high': '1534.8100', '3. low': '1487.0000', '4. close': '1499.1100', '5. adjusted close': '299.8220', '6. volume': '9426893', '7. dividend amount': '0.0000', '8. split coefficient': '1.0'}, '2020-07-28': {'1. open': '1504.0000', '2. high': '1564.7000', '3. low': '1474.4200', '4. close': '1476.4900', '5. adjusted close': '295.2980', '6. volume': '15808700', '7. dividend amount': '0.0000', '8. split coefficient': '1.0'}, '2020-07-27': {'1. open': '1435.0000', '2. high': '1547.9400', '3. low': '1413.0003', '4. close': '1539.6000', '5. adjusted close': '307.9200', '6. volume': '16048669', '7. dividend amount': '0.0000', '8. split coefficient': '1.0'}, '2020-07-24': {'1. open': '1416.0100', '2. high': '1465.0000', '3. low': '1366.5401', '4. close': '1417.0000', '5. adjusted close': '283.4000', '6. volume': '19396616', '7. dividend amount': '0.0000', '8. split coefficient': '1.0'}, '2020-07-23': {'1. open': '1678.9500', '2. high': '1689.0000', '3. low': '1480.7700', '4. close': '1513.0700', '5. adjusted close': '302.6140', '6. volume': '24328504', '7. dividend amount': '0.0000', '8. split coefficient': '1.0'}, '2020-07-22': {'1. open': '1599.0000', '2. high': '1626.4200', '3. low': '1562.0000', '4. close': '1592.3300', '5. adjusted close': '318.4660', '6. volume': '14161080', '7. dividend amount': '0.0000', '8. split coefficient': '1.0'}, '2020-07-21': {'1. open': '1639.9300', '2. high': '1675.0000', '3. low': '1558.0000', '4. close': '1568.3600', '5. adjusted close': '313.6720', '6. volume': '16157300', '7. dividend amount': '0.0000', '8. split coefficient': '1.0'}, '2020-07-20': {'1. open': '1519.0100', '2. high': '1650.0000', '3. low': '1488.0000', '4. close': '1643.0000', '5. adjusted close': '328.6000', '6. volume': '17121400', '7. dividend amount': '0.0000', '8. split coefficient': '1.0'}, '2020-07-17': {'1. open': '1513.4500', '2. high': '1537.5100', '3. low': '1490.0000', '4. close': '1500.8400', '5. adjusted close': '300.1680', '6. volume': '9330000', '7. dividend amount': '0.0000', '8. split coefficient': '1.0'}, '2020-07-16': {'1. open': '1477.1600', '2. high': '1531.7100', '3. low': '1466.0000', '4. close': '1500.6400', '5. adjusted close': '300.1280', '6. volume': '14300800', '7. dividend amount': '0.0000', '8. split coefficient': '1.0'}, '2020-07-15': {'1. open': '1543.0000', '2. high': '1550.0000', '3. low': '1457.0000', '4. close': '1546.0100', '5. adjusted close': '309.2020', '6. volume': '16367800', '7. dividend amount': '0.0000', '8. split coefficient': '1.0'}, '2020-07-14': {'1. open': '1556.0000', '2. high': '1590.0000', '3. low': '1431.0000', '4. close': '1516.8000', '5. adjusted close': '303.3600', '6. volume': '23418100', '7. dividend amount': '0.0000', '8. split coefficient': '1.0'}, '2020-07-13': {'1. open': '1659.0000', '2. high': '1794.9900', '3. low': '1471.1100', '4. close': '1497.0600', '5. adjusted close': '299.4120', '6. volume': '38985400', '7. dividend amount': '0.0000', '8. split coefficient': '1.0'}, '2020-07-10': {'1. open': '1396.0000', '2. high': '1548.9200', '3. low': '1376.0100', '4. close': '1544.6500', '5. adjusted close': '308.9300', '6. volume': '23337600', '7. dividend amount': '0.0000', '8. split coefficient': '1.0'}, '2020-07-09': {'1. open': '1396.9900', '2. high': '1408.5600', '3. low': '1351.2800', '4. close': '1394.2800', '5. adjusted close': '278.8560', '6. volume': '11717600', '7. dividend amount': '0.0000', '8. split coefficient': '1.0'}, '2020-07-08': {'1. open': '1405.0000', '2. high': '1417.2600', '3. low': '1311.3400', '4. close': '1365.8800', '5. adjusted close': '273.1760', '6. volume': '16311300', '7. dividend amount': '0.0000', '8. split coefficient': '1.0'}, '2020-07-07': {'1. open': '1405.0100', '2. high': '1429.5000', '3. low': '1336.7100', '4. close': '1389.8600', '5. adjusted close': '277.9720', '6. volume': '21489700', '7. dividend amount': '0.0000', '8. split coefficient': '1.0'}, '2020-07-06': {'1. open': '1276.6900', '2. high': '1377.7900', '3. low': '1266.0400', '4. close': '1371.5800', '5. adjusted close': '274.3160', '6. volume': '20569900', '7. dividend amount': '0.0000', '8. split coefficient': '1.0'}, '2020-07-02': {'1. open': '1221.4800', '2. high': '1228.0000', '3. low': '1185.6000', '4. close': '1208.6600', '5. adjusted close': '241.7320', '6. volume': '17201300', '7. dividend amount': '0.0000', '8. split coefficient': '1.0'}, '2020-07-01': {'1. open': '1083.0000', '2. high': '1135.3300', '3. low': '1080.5000', '4. close': '1119.6300', '5. adjusted close': '223.9260', '6. volume': '13326900', '7. dividend amount': '0.0000', '8. split coefficient': '1.0'}, '2020-06-30': {'1. open': '1006.5000', '2. high': '1087.6900', '3. low': '1003.7300', '4. close': '1079.8100', '5. adjusted close': '215.9620', '6. volume': '16918500', '7. dividend amount': '0.0000', '8. split coefficient': '1.0'}, '2020-06-29': {'1. open': '969.0100', '2. high': '1010.0000', '3. low': '948.5201', '4. close': '1009.3500', '5. adjusted close': '201.8700', '6. volume': '9026404', '7. dividend amount': '0.0000', '8. split coefficient': '1.0'}, '2020-06-26': {'1. open': '994.7800', '2. high': '995.0000', '3. low': '954.8700', '4. close': '959.7400', '5. adjusted close': '191.9480', '6. volume': '8854900', '7. dividend amount': '0.0000', '8. split coefficient': '1.0'}, '2020-06-25': {'1. open': '954.2700', '2. high': '985.9800', '3. low': '937.1500', '4. close': '985.9800', '5. adjusted close': '197.1960', '6. volume': '9254500', '7. dividend amount': '0.0000', '8. split coefficient': '1.0'}, '2020-06-24': {'1. open': '994.1100', '2. high': '1000.8800', '3. low': '953.1400', '4. close': '960.8500', '5. adjusted close': '192.1700', '6. volume': '10959600', '7. dividend amount': '0.0000', '8. split coefficient': '1.0'}, '2020-06-23': {'1. open': '998.8800', '2. high': '1012.0000', '3. low': '994.0100', '4. close': '1001.7800', '5. adjusted close': '200.3560', '6. volume': '6365300', '7. dividend amount': '0.0000', '8. split coefficient': '1.0'}, '2020-06-22': {'1. open': '999.9500', '2. high': '1008.8800', '3. low': '990.0200', '4. close': '994.3200', '5. adjusted close': '198.8640', '6. volume': '6362400', '7. dividend amount': '0.0000', '8. split coefficient': '1.0'}, '2020-06-19': {'1. open': '1012.7800', '2. high': '1015.9700', '3. low': '991.3400', '4. close': '1000.9000', '5. adjusted close': '200.1800', '6. volume': '8679700', '7. dividend amount': '0.0000', '8. split coefficient': '1.0'}, '2020-06-18': {'1. open': '1003.0000', '2. high': '1019.2000', '3. low': '994.4700', '4. close': '1003.9600', '5. adjusted close': '200.7920', '6. volume': '9751900', '7. dividend amount': '0.0000', '8. split coefficient': '1.0'}, '2020-06-17': {'1. open': '987.7100', '2. high': '1005.0000', '3. low': '982.5700', '4. close': '991.7900', '5. adjusted close': '198.3580', '6. volume': '9869400', '7. dividend amount': '0.0000', '8. split coefficient': '1.0'}, '2020-06-16': {'1. open': '1011.8500', '2. high': '1012.8800', '3. low': '962.3900', '4. close': '982.1300', '5. adjusted close': '196.4260', '6. volume': '14051100', '7. dividend amount': '0.0000', '8. split coefficient': '1.0'}, '2020-06-15': {'1. open': '917.7900', '2. high': '998.8400', '3. low': '908.5000', '4. close': '990.9000', '5. adjusted close': '198.1800', '6. volume': '15697200', '7. dividend amount': '0.0000', '8. split coefficient': '1.0'}, '2020-06-12': {'1. open': '980.0000', '2. high': '987.9800', '3. low': '912.6000', '4. close': '935.2800', '5. adjusted close': '187.0560', '6. volume': '16730200', '7. dividend amount': '0.0000', '8. split coefficient': '1.0'}, '2020-06-11': {'1. open': '990.2000', '2. high': '1018.9600', '3. low': '972.0000', '4. close': '972.8400', '5. adjusted close': '194.5680', '6. volume': '15916500', '7. dividend amount': '0.0000', '8. split coefficient': '1.0'}, '2020-06-10': {'1. open': '991.8800', '2. high': '1027.4800', '3. low': '982.5000', '4. close': '1025.0500', '5. adjusted close': '205.0100', '6. volume': '18563400', '7. dividend amount': '0.0000', '8. split coefficient': '1.0'}, '2020-06-09': {'1. open': '940.0100', '2. high': '954.4400', '3. low': '923.9300', '4. close': '940.6700', '5. adjusted close': '188.1340', '6. volume': '11388200', '7. dividend amount': '0.0000', '8. split coefficient': '1.0'}, '2020-06-08': {'1. open': '919.0000', '2. high': '950.0000', '3. low': '909.1600', '4. close': '949.9200', '5. adjusted close': '189.9840', '6. volume': '14174700', '7. dividend amount': '0.0000', '8. split coefficient': '1.0'}, '2020-06-05': {'1. open': '877.8400', '2. high': '886.5200', '3. low': '866.2000', '4. close': '885.6600', '5. adjusted close': '177.1320', '6. volume': '7811900', '7. dividend amount': '0.0000', '8. split coefficient': '1.0'}, '2020-06-04': {'1. open': '889.8800', '2. high': '895.7500', '3. low': '858.4400', '4. close': '864.3800', '5. adjusted close': '172.8760', '6. volume': '8887700', '7. dividend amount': '0.0000', '8. split coefficient': '1.0'}, '2020-06-03': {'1. open': '888.1200', '2. high': '897.9400', '3. low': '880.1000', '4. close': '882.9600', '5. adjusted close': '176.5920', '6. volume': '7949500', '7. dividend amount': '0.0000', '8. split coefficient': '1.0'}}}\n"
     ]
    }
   ],
   "source": [
    "import requests\n",
    "import json \n",
    "key = 'AZ0IT0GT66HJ1U36'\n",
    "ticker = 'TSLA'\n",
    "url = 'https://www.alphavantage.co/query?function=TIME_SERIES_DAILY_ADJUSTED&symbol={}&apikey={}'.format(ticker, key)\n",
    "response = requests.get(url)\n",
    "print(response.json()) "
   ]
  },
  {
   "cell_type": "code",
   "execution_count": 60,
   "metadata": {},
   "outputs": [
    {
     "data": {
      "text/plain": [
       "'https://www.alphavantage.co/query?function=TIME_SERIES_DAILY_ADJUSTED&symbol=TSLA&apikey=AZ0IT0GT66HJ1U36'"
      ]
     },
     "execution_count": 60,
     "metadata": {},
     "output_type": "execute_result"
    }
   ],
   "source": [
    "response.url"
   ]
  },
  {
   "cell_type": "code",
   "execution_count": 66,
   "metadata": {},
   "outputs": [],
   "source": [
    "import ipaddress"
   ]
  },
  {
   "cell_type": "code",
   "execution_count": 68,
   "metadata": {},
   "outputs": [],
   "source": [
    "ip = '192.168.1.256'"
   ]
  },
  {
   "cell_type": "code",
   "execution_count": 69,
   "metadata": {},
   "outputs": [
    {
     "name": "stdout",
     "output_type": "stream",
     "text": [
      "Invalid address\n"
     ]
    }
   ],
   "source": [
    "try:\n",
    "    addr = ipaddress.IPv4Address(ip)\n",
    "except ipaddress.AddressValueError:\n",
    "    print(\"Invalid address\")\n",
    "else:\n",
    "    print(\"Valid address\")"
   ]
  },
  {
   "cell_type": "code",
   "execution_count": 61,
   "metadata": {},
   "outputs": [
    {
     "name": "stdout",
     "output_type": "stream",
     "text": [
      "Processing /home/data/.cache/pip/wheels/9b/51/d5/d4682860392414da28ba3c5ffac0243983399b868a9cced6df/netifaces-0.10.9-cp38-cp38-linux_x86_64.whl\n",
      "Installing collected packages: netifaces\n",
      "Successfully installed netifaces-0.10.9\n"
     ]
    }
   ],
   "source": [
    "!pip install netifaces\n",
    "\n"
   ]
  },
  {
   "cell_type": "code",
   "execution_count": 62,
   "metadata": {},
   "outputs": [
    {
     "data": {
      "text/plain": [
       "{17: [{'addr': '3e:dc:1e:0b:87:36', 'broadcast': 'ff:ff:ff:ff:ff:ff'}],\n",
       " 2: [{'addr': '192.168.161.116',\n",
       "   'netmask': '255.255.255.255',\n",
       "   'broadcast': '192.168.161.116'}]}"
      ]
     },
     "execution_count": 62,
     "metadata": {},
     "output_type": "execute_result"
    }
   ],
   "source": [
    "import netifaces\n",
    "interfaces = netifaces.interfaces()\n",
    "netifaces.ifaddresses('eth0')"
   ]
  },
  {
   "cell_type": "code",
   "execution_count": 63,
   "metadata": {},
   "outputs": [
    {
     "name": "stdout",
     "output_type": "stream",
     "text": [
      "Network interface: lo\n",
      "\tIP address: 127.0.0.1\n",
      "\tNetmask: 255.0.0.0\n",
      "Network interface: eth0\n",
      "\tIP address: 192.168.161.116\n",
      "\tNetmask: 255.255.255.255\n"
     ]
    }
   ],
   "source": [
    "for iface in interfaces:\n",
    "    ipaddrs = netifaces.ifaddresses(iface)\n",
    "    if netifaces.AF_INET in ipaddrs:\n",
    "        ipaddr_desc = ipaddrs[netifaces.AF_INET][0]\n",
    "        print(f\"Network interface: {iface}\")\n",
    "        if 'addr' in ipaddr_desc:\n",
    "            print(f\"\\tIP address: {ipaddr_desc['addr']}\")\n",
    "        if 'netmask' in ipaddr_desc:\n",
    "            print(f\"\\tNetmask: {ipaddr_desc['netmask']}\")"
   ]
  },
  {
   "cell_type": "code",
   "execution_count": 70,
   "metadata": {},
   "outputs": [],
   "source": [
    "loopback = ipaddress.IPv4Interface('127.0.0.1')"
   ]
  },
  {
   "cell_type": "code",
   "execution_count": 71,
   "metadata": {},
   "outputs": [
    {
     "data": {
      "text/plain": [
       "IPv4Interface('127.0.0.1/32')"
      ]
     },
     "execution_count": 71,
     "metadata": {},
     "output_type": "execute_result"
    }
   ],
   "source": [
    "loopback\n"
   ]
  },
  {
   "cell_type": "code",
   "execution_count": 72,
   "metadata": {},
   "outputs": [
    {
     "data": {
      "text/plain": [
       "{17: [{'addr': '3e:dc:1e:0b:87:36', 'broadcast': 'ff:ff:ff:ff:ff:ff'}],\n",
       " 2: [{'addr': '192.168.161.116',\n",
       "   'netmask': '255.255.255.255',\n",
       "   'broadcast': '192.168.161.116'}]}"
      ]
     },
     "execution_count": 72,
     "metadata": {},
     "output_type": "execute_result"
    }
   ],
   "source": [
    "netifaces.ifaddresses('eth0')\n"
   ]
  },
  {
   "cell_type": "code",
   "execution_count": 73,
   "metadata": {},
   "outputs": [
    {
     "data": {
      "text/plain": [
       "False"
      ]
     },
     "execution_count": 73,
     "metadata": {},
     "output_type": "execute_result"
    }
   ],
   "source": [
    "loopback.is_loopback\n",
    "loopback.is_private\n",
    "loopback.is_multicast"
   ]
  },
  {
   "cell_type": "code",
   "execution_count": 77,
   "metadata": {},
   "outputs": [
    {
     "data": {
      "text/plain": [
       "65536"
      ]
     },
     "execution_count": 77,
     "metadata": {},
     "output_type": "execute_result"
    }
   ],
   "source": [
    "example = ipaddress.ip_network(\"192.168.0.0/16\")\n",
    "example.netmask\n",
    "example.broadcast_address\n",
    "example.network_address\n",
    "example.num_addresses\n"
   ]
  },
  {
   "cell_type": "code",
   "execution_count": 79,
   "metadata": {},
   "outputs": [],
   "source": [
    "### Consider the network \"192.168.5.0/28\"."
   ]
  },
  {
   "cell_type": "code",
   "execution_count": 80,
   "metadata": {},
   "outputs": [],
   "source": [
    "net = ipaddress.ip_network('192.168.5.0/28')"
   ]
  },
  {
   "cell_type": "code",
   "execution_count": 82,
   "metadata": {},
   "outputs": [],
   "source": [
    "from __future__ import annotations"
   ]
  },
  {
   "cell_type": "code",
   "execution_count": 83,
   "metadata": {},
   "outputs": [],
   "source": [
    "def get_subnet_addresses(address: ipaddress.IPv4Address, mask_length: int):\n",
    "    \"\"\"\n",
    "    Get all IP addresses on the subnet that is defined by `address`\n",
    "    with the given subnet mask length\n",
    "    \"\"\"\n",
    "    if not isinstance(address, ipaddress.IPv4Address):\n",
    "        raise TypeError(f\"address must be of type ipaddress.IPv4Address, got {type(address)}\")\n",
    "    iface_str = f\"{str(address)}/{mask_length}\"\n",
    "    iface = ipaddress.IPv4Interface(iface_str)\n",
    "    net = iface.network\n",
    "    addresses = list(net.hosts())\n",
    "    return addresses"
   ]
  },
  {
   "cell_type": "code",
   "execution_count": 86,
   "metadata": {},
   "outputs": [],
   "source": [
    "address = ipaddress.IPv4Address(\"192.168.1.0\")"
   ]
  },
  {
   "cell_type": "code",
   "execution_count": 88,
   "metadata": {},
   "outputs": [],
   "source": [
    "subnet_addresses = get_subnet_addresses(address, 28)"
   ]
  },
  {
   "cell_type": "code",
   "execution_count": 89,
   "metadata": {},
   "outputs": [
    {
     "data": {
      "text/plain": [
       "[IPv4Address('192.168.1.1'),\n",
       " IPv4Address('192.168.1.2'),\n",
       " IPv4Address('192.168.1.3'),\n",
       " IPv4Address('192.168.1.4'),\n",
       " IPv4Address('192.168.1.5'),\n",
       " IPv4Address('192.168.1.6'),\n",
       " IPv4Address('192.168.1.7'),\n",
       " IPv4Address('192.168.1.8'),\n",
       " IPv4Address('192.168.1.9'),\n",
       " IPv4Address('192.168.1.10'),\n",
       " IPv4Address('192.168.1.11'),\n",
       " IPv4Address('192.168.1.12'),\n",
       " IPv4Address('192.168.1.13'),\n",
       " IPv4Address('192.168.1.14')]"
      ]
     },
     "execution_count": 89,
     "metadata": {},
     "output_type": "execute_result"
    }
   ],
   "source": [
    "subnet_addresses"
   ]
  },
  {
   "cell_type": "code",
   "execution_count": null,
   "metadata": {},
   "outputs": [],
   "source": [
    "### Cyberpandas  Gives you an IPType as a dtype"
   ]
  },
  {
   "cell_type": "code",
   "execution_count": 223,
   "metadata": {},
   "outputs": [
    {
     "name": "stdout",
     "output_type": "stream",
     "text": [
      "4177  37593 304921\n"
     ]
    }
   ],
   "source": [
    "import asyncio\n",
    "\n",
    "async def count_words_async(file_path):\n",
    "    with open(file_path, mode='rb') as file:\n",
    "        proc = await asyncio.create_subprocess_exec(\n",
    "            'wc',\n",
    "            stdin=file,\n",
    "            stdout=asyncio.subprocess.PIPE,\n",
    "            stderr=asyncio.subprocess.PIPE)\n",
    "\n",
    "        await proc.wait()\n",
    "        # This works:\n",
    "        #     result = await proc.stdout.read()\n",
    "        #     return result.decode('utf8').strip()\n",
    "        # But the docs seem to recommend this instead:\n",
    "        stdout, stderr = await proc.communicate()\n",
    "        return stdout.decode('utf8').strip()\n",
    "\n",
    "async def main():\n",
    "    result = await count_words_async('/Data/airfares.txt')\n",
    "    print(result)\n",
    "\n",
    "await main()"
   ]
  },
  {
   "cell_type": "code",
   "execution_count": 100,
   "metadata": {},
   "outputs": [],
   "source": [
    "import socket"
   ]
  },
  {
   "cell_type": "code",
   "execution_count": 101,
   "metadata": {},
   "outputs": [
    {
     "data": {
      "text/plain": [
       "'13.237.211.31'"
      ]
     },
     "execution_count": 101,
     "metadata": {},
     "output_type": "execute_result"
    }
   ],
   "source": [
    "socket.gethostbyname('pythoncharmers.com')"
   ]
  },
  {
   "cell_type": "code",
   "execution_count": 102,
   "metadata": {},
   "outputs": [],
   "source": [
    "import dns.resolver"
   ]
  },
  {
   "cell_type": "code",
   "execution_count": 105,
   "metadata": {},
   "outputs": [],
   "source": [
    "answers = dns.resolver.resolve('google.com', 'A')"
   ]
  },
  {
   "cell_type": "code",
   "execution_count": 106,
   "metadata": {},
   "outputs": [
    {
     "name": "stdout",
     "output_type": "stream",
     "text": [
      "google.com 172.217.167.110\n"
     ]
    }
   ],
   "source": [
    "for record_data in answers:\n",
    "    print('google.com', record_data.address)"
   ]
  },
  {
   "cell_type": "code",
   "execution_count": 108,
   "metadata": {},
   "outputs": [],
   "source": [
    "answers = dns.resolver.resolve('google.com', 'AAAA')"
   ]
  },
  {
   "cell_type": "code",
   "execution_count": 109,
   "metadata": {},
   "outputs": [
    {
     "name": "stdout",
     "output_type": "stream",
     "text": [
      "google.com 2404:6800:4006:812::200e\n"
     ]
    }
   ],
   "source": [
    "for record_data in answers:\n",
    "    print('google.com', record_data.address)"
   ]
  },
  {
   "cell_type": "code",
   "execution_count": 110,
   "metadata": {},
   "outputs": [
    {
     "data": {
      "text/plain": [
       "[(<AddressFamily.AF_INET: 2>,\n",
       "  <SocketKind.SOCK_STREAM: 1>,\n",
       "  6,\n",
       "  '',\n",
       "  ('54.206.19.82', 80)),\n",
       " (<AddressFamily.AF_INET6: 10>,\n",
       "  <SocketKind.SOCK_STREAM: 1>,\n",
       "  6,\n",
       "  '',\n",
       "  ('2406:da1c:6aa:c000:cfd6:c818:194:93fa', 80, 0, 0))]"
      ]
     },
     "execution_count": 110,
     "metadata": {},
     "output_type": "execute_result"
    }
   ],
   "source": [
    "socket.getaddrinfo('www.imc.com', 80, type=socket.SOCK_STREAM)\n"
   ]
  },
  {
   "cell_type": "code",
   "execution_count": 111,
   "metadata": {},
   "outputs": [],
   "source": [
    "goog_ip6 = ipaddress.IPv6Address(record_data.address)\n"
   ]
  },
  {
   "cell_type": "code",
   "execution_count": 112,
   "metadata": {},
   "outputs": [
    {
     "data": {
      "text/plain": [
       "IPv6Address('2404:6800:4006:812::200e')"
      ]
     },
     "execution_count": 112,
     "metadata": {},
     "output_type": "execute_result"
    }
   ],
   "source": [
    "goog_ip6"
   ]
  },
  {
   "cell_type": "code",
   "execution_count": 113,
   "metadata": {},
   "outputs": [
    {
     "data": {
      "text/plain": [
       "True"
      ]
     },
     "execution_count": 113,
     "metadata": {},
     "output_type": "execute_result"
    }
   ],
   "source": [
    "goog_ip6.is_global\n"
   ]
  },
  {
   "cell_type": "code",
   "execution_count": 114,
   "metadata": {},
   "outputs": [],
   "source": [
    "name1 = dns.name.from_text('www.imc.com')\n"
   ]
  },
  {
   "cell_type": "code",
   "execution_count": 115,
   "metadata": {},
   "outputs": [
    {
     "data": {
      "text/plain": [
       "<DNS name www.imc.com.>"
      ]
     },
     "execution_count": 115,
     "metadata": {},
     "output_type": "execute_result"
    }
   ],
   "source": [
    "name1"
   ]
  },
  {
   "cell_type": "code",
   "execution_count": 116,
   "metadata": {},
   "outputs": [],
   "source": [
    "name2 = dns.name.from_text('imc.com')\n"
   ]
  },
  {
   "cell_type": "code",
   "execution_count": 117,
   "metadata": {},
   "outputs": [
    {
     "data": {
      "text/plain": [
       "True"
      ]
     },
     "execution_count": 117,
     "metadata": {},
     "output_type": "execute_result"
    }
   ],
   "source": [
    "name1.is_subdomain(name2)\n"
   ]
  },
  {
   "cell_type": "code",
   "execution_count": 118,
   "metadata": {},
   "outputs": [
    {
     "data": {
      "text/plain": [
       "<DNS name www.imc.com.>"
      ]
     },
     "execution_count": 118,
     "metadata": {},
     "output_type": "execute_result"
    }
   ],
   "source": [
    "name1.canonicalize()\n"
   ]
  },
  {
   "cell_type": "code",
   "execution_count": 119,
   "metadata": {},
   "outputs": [],
   "source": [
    "import subprocess\n"
   ]
  },
  {
   "cell_type": "code",
   "execution_count": 120,
   "metadata": {},
   "outputs": [
    {
     "data": {
      "text/plain": [
       "0"
      ]
     },
     "execution_count": 120,
     "metadata": {},
     "output_type": "execute_result"
    }
   ],
   "source": [
    "subprocess.call(['hostname'])\n"
   ]
  },
  {
   "cell_type": "code",
   "execution_count": 125,
   "metadata": {},
   "outputs": [
    {
     "data": {
      "text/plain": [
       "255"
      ]
     },
     "execution_count": 125,
     "metadata": {},
     "output_type": "execute_result"
    }
   ],
   "source": [
    "subprocess.call(['hostname', '-x'])"
   ]
  },
  {
   "cell_type": "code",
   "execution_count": 126,
   "metadata": {},
   "outputs": [
    {
     "data": {
      "text/plain": [
       "b'jupyter-faek-2esoussi-40imc-2ecom\\n'"
      ]
     },
     "execution_count": 126,
     "metadata": {},
     "output_type": "execute_result"
    }
   ],
   "source": [
    "subprocess.check_output(['hostname'])\n"
   ]
  },
  {
   "cell_type": "code",
   "execution_count": 127,
   "metadata": {},
   "outputs": [
    {
     "data": {
      "text/plain": [
       "'jupyter-faek-2esoussi-40imc-2ecom\\n'"
      ]
     },
     "execution_count": 127,
     "metadata": {},
     "output_type": "execute_result"
    }
   ],
   "source": [
    "subprocess.check_output(['hostname']).decode('utf8')\n"
   ]
  },
  {
   "cell_type": "code",
   "execution_count": 131,
   "metadata": {},
   "outputs": [
    {
     "data": {
      "text/plain": [
       "0"
      ]
     },
     "execution_count": 131,
     "metadata": {},
     "output_type": "execute_result"
    }
   ],
   "source": [
    "subprocess.call(['hostname', '-I'])\n"
   ]
  },
  {
   "cell_type": "code",
   "execution_count": 132,
   "metadata": {},
   "outputs": [
    {
     "data": {
      "text/plain": [
       "b'jupyter-faek-2esoussi-40imc-2ecom\\n'"
      ]
     },
     "execution_count": 132,
     "metadata": {},
     "output_type": "execute_result"
    }
   ],
   "source": [
    "subprocess.check_output(['hostname'])"
   ]
  },
  {
   "cell_type": "code",
   "execution_count": 136,
   "metadata": {
    "collapsed": true,
    "jupyter": {
     "outputs_hidden": true
    }
   },
   "outputs": [
    {
     "name": "stdout",
     "output_type": "stream",
     "text": [
      "None\n",
      "b'Usage: hostname [-b] {hostname|-F file}         set host name (from file)\\n       hostname [-a|-A|-d|-f|-i|-I|-s|-y]       display formatted name\\n       hostname                                 display host name\\n\\n       {yp,nis,}domainname {nisdomain|-F file}  set NIS domain name (from file)\\n       {yp,nis,}domainname                      display NIS domain name\\n\\n       dnsdomainname                            display dns domain name\\n\\n       hostname -V|--version|-h|--help          print info and exit\\n\\nProgram name:\\n       {yp,nis,}domainname=hostname -y\\n       dnsdomainname=hostname -d\\n\\nProgram options:\\n    -a, --alias            alias names\\n    -A, --all-fqdns        all long host names (FQDNs)\\n    -b, --boot             set default hostname if none available\\n    -d, --domain           DNS domain name\\n    -f, --fqdn, --long     long host name (FQDN)\\n    -F, --file             read host name or NIS domain name from given file\\n    -i, --ip-address       addresses for the host name\\n    -I, --all-ip-addresses all addresses for the host\\n    -s, --short            short host name\\n    -y, --yp, --nis        NIS/YP domain name\\n\\nDescription:\\n   This command can get or set the host name or the NIS domain name. You can\\n   also get the DNS domain or the FQDN (fully qualified domain name).\\n   Unless you are using bind or NIS for host lookups you can change the\\n   FQDN (Fully Qualified Domain Name) and the DNS domain name (which is\\n   part of the FQDN) in the /etc/hosts file.\\n'\n"
     ]
    }
   ],
   "source": [
    "try:\n",
    "    subprocess.check_output(['hostname', '-X'])\n",
    "except subprocess.CalledProcessError as e:\n",
    "    print(e.stderr)\n",
    "    print(e.stdout)"
   ]
  },
  {
   "cell_type": "code",
   "execution_count": 137,
   "metadata": {},
   "outputs": [
    {
     "data": {
      "text/plain": [
       "b'192.168.161.116 \\n'"
      ]
     },
     "execution_count": 137,
     "metadata": {},
     "output_type": "execute_result"
    }
   ],
   "source": [
    "subprocess.check_output(['hostname', '-I'])"
   ]
  },
  {
   "cell_type": "code",
   "execution_count": 138,
   "metadata": {},
   "outputs": [
    {
     "name": "stdout",
     "output_type": "stream",
     "text": [
      "eth0: flags=4163<UP,BROADCAST,RUNNING,MULTICAST>  mtu 9001\n",
      "        inet 192.168.161.116  netmask 255.255.255.255  broadcast 0.0.0.0\n",
      "        ether 3e:dc:1e:0b:87:36  txqueuelen 0  (Ethernet)\n",
      "        RX packets 50734  bytes 22001196 (22.0 MB)\n",
      "        RX errors 0  dropped 0  overruns 0  frame 0\n",
      "        TX packets 55008  bytes 110140706 (110.1 MB)\n",
      "        TX errors 0  dropped 0 overruns 0  carrier 0  collisions 0\n",
      "\n",
      "lo: flags=73<UP,LOOPBACK,RUNNING>  mtu 65536\n",
      "        inet 127.0.0.1  netmask 255.0.0.0\n",
      "        loop  txqueuelen 1000  (Local Loopback)\n",
      "        RX packets 4196  bytes 1625273 (1.6 MB)\n",
      "        RX errors 0  dropped 0  overruns 0  frame 0\n",
      "        TX packets 4196  bytes 1625273 (1.6 MB)\n",
      "        TX errors 0  dropped 0 overruns 0  carrier 0  collisions 0\n",
      "\n",
      "\n"
     ]
    }
   ],
   "source": [
    "print(subprocess.check_output('ifconfig').decode('utf8'))"
   ]
  },
  {
   "cell_type": "code",
   "execution_count": 139,
   "metadata": {},
   "outputs": [],
   "source": [
    "proc = subprocess.Popen('ifconfig')"
   ]
  },
  {
   "cell_type": "code",
   "execution_count": 140,
   "metadata": {},
   "outputs": [
    {
     "data": {
      "text/plain": [
       "subprocess.Popen"
      ]
     },
     "execution_count": 140,
     "metadata": {},
     "output_type": "execute_result"
    }
   ],
   "source": [
    "type(proc)"
   ]
  },
  {
   "cell_type": "code",
   "execution_count": 144,
   "metadata": {},
   "outputs": [
    {
     "data": {
      "text/plain": [
       "0"
      ]
     },
     "execution_count": 144,
     "metadata": {},
     "output_type": "execute_result"
    }
   ],
   "source": [
    "proc.poll()  # check if the child process is still running"
   ]
  },
  {
   "cell_type": "code",
   "execution_count": 150,
   "metadata": {},
   "outputs": [],
   "source": [
    "proc = subprocess.Popen(['sleep', '10'])"
   ]
  },
  {
   "cell_type": "code",
   "execution_count": 152,
   "metadata": {},
   "outputs": [
    {
     "data": {
      "text/plain": [
       "-9"
      ]
     },
     "execution_count": 152,
     "metadata": {},
     "output_type": "execute_result"
    }
   ],
   "source": [
    "proc.poll() # check if process is alive "
   ]
  },
  {
   "cell_type": "code",
   "execution_count": 155,
   "metadata": {},
   "outputs": [
    {
     "data": {
      "text/plain": [
       "-9"
      ]
     },
     "execution_count": 155,
     "metadata": {},
     "output_type": "execute_result"
    }
   ],
   "source": [
    "proc.wait()"
   ]
  },
  {
   "cell_type": "code",
   "execution_count": 154,
   "metadata": {},
   "outputs": [],
   "source": [
    "proc.kill()"
   ]
  },
  {
   "cell_type": "code",
   "execution_count": 156,
   "metadata": {},
   "outputs": [],
   "source": [
    "proc.terminate()"
   ]
  },
  {
   "cell_type": "code",
   "execution_count": 157,
   "metadata": {},
   "outputs": [],
   "source": [
    "word_counter = subprocess.Popen(['wc'], stdin=subprocess.PIPE, stdout=subprocess.PIPE, stderr=subprocess.PIPE)"
   ]
  },
  {
   "cell_type": "code",
   "execution_count": 158,
   "metadata": {},
   "outputs": [],
   "source": [
    "word_counter.poll()"
   ]
  },
  {
   "cell_type": "code",
   "execution_count": 159,
   "metadata": {},
   "outputs": [],
   "source": [
    "output, error = word_counter.communicate('Good morning Amsterdam!'.encode('utf8'))"
   ]
  },
  {
   "cell_type": "code",
   "execution_count": 161,
   "metadata": {},
   "outputs": [
    {
     "data": {
      "text/plain": [
       "b'      0       3      23\\n'"
      ]
     },
     "execution_count": 161,
     "metadata": {},
     "output_type": "execute_result"
    }
   ],
   "source": [
    "output\n"
   ]
  },
  {
   "cell_type": "code",
   "execution_count": 162,
   "metadata": {},
   "outputs": [
    {
     "data": {
      "text/plain": [
       "b''"
      ]
     },
     "execution_count": 162,
     "metadata": {},
     "output_type": "execute_result"
    }
   ],
   "source": [
    "error"
   ]
  },
  {
   "cell_type": "code",
   "execution_count": 172,
   "metadata": {},
   "outputs": [
    {
     "data": {
      "text/plain": [
       "<_io.TextIOWrapper name='/Data/maugham_the_verger.txt' mode='r' encoding='UTF-8'>"
      ]
     },
     "execution_count": 172,
     "metadata": {},
     "output_type": "execute_result"
    }
   ],
   "source": [
    "open('/Data/maugham_the_verger.txt')\n"
   ]
  },
  {
   "cell_type": "code",
   "execution_count": 177,
   "metadata": {},
   "outputs": [
    {
     "ename": "AttributeError",
     "evalue": "'NoneType' object has no attribute 'write'",
     "output_type": "error",
     "traceback": [
      "\u001b[0;31m---------------------------------------------------------------------------\u001b[0m",
      "\u001b[0;31mAttributeError\u001b[0m                            Traceback (most recent call last)",
      "\u001b[0;32m<ipython-input-177-b87300c5d5d1>\u001b[0m in \u001b[0;36m<module>\u001b[0;34m\u001b[0m\n\u001b[0;32m----> 1\u001b[0;31m \u001b[0mproc\u001b[0m\u001b[0;34m.\u001b[0m\u001b[0mstdin\u001b[0m\u001b[0;34m.\u001b[0m\u001b[0mwrite\u001b[0m\u001b[0;34m(\u001b[0m\u001b[0mf\u001b[0m\u001b[0;34m.\u001b[0m\u001b[0mread\u001b[0m\u001b[0;34m(\u001b[0m\u001b[0;34m)\u001b[0m\u001b[0;34m)\u001b[0m\u001b[0;34m\u001b[0m\u001b[0;34m\u001b[0m\u001b[0m\n\u001b[0m",
      "\u001b[0;31mAttributeError\u001b[0m: 'NoneType' object has no attribute 'write'"
     ]
    }
   ],
   "source": [
    "proc.stdin.write(f.read())"
   ]
  },
  {
   "cell_type": "code",
   "execution_count": 178,
   "metadata": {},
   "outputs": [],
   "source": [
    "with open('/Data/maugham_the_verger.txt') as f:\n",
    "    word_count = subprocess.Popen(['wc'], stdin=f, stdout=subprocess.PIPE)"
   ]
  },
  {
   "cell_type": "code",
   "execution_count": 179,
   "metadata": {},
   "outputs": [
    {
     "data": {
      "text/plain": [
       "0"
      ]
     },
     "execution_count": 179,
     "metadata": {},
     "output_type": "execute_result"
    }
   ],
   "source": [
    "word_count.poll()"
   ]
  },
  {
   "cell_type": "code",
   "execution_count": 180,
   "metadata": {},
   "outputs": [
    {
     "data": {
      "text/plain": [
       "b'  309  2823 15206\\n'"
      ]
     },
     "execution_count": 180,
     "metadata": {},
     "output_type": "execute_result"
    }
   ],
   "source": [
    "word_count.stdout.read()"
   ]
  },
  {
   "cell_type": "code",
   "execution_count": 193,
   "metadata": {},
   "outputs": [
    {
     "data": {
      "text/plain": [
       "-1"
      ]
     },
     "execution_count": 193,
     "metadata": {},
     "output_type": "execute_result"
    }
   ],
   "source": [
    "subprocess.PIPE"
   ]
  },
  {
   "cell_type": "code",
   "execution_count": 197,
   "metadata": {},
   "outputs": [
    {
     "data": {
      "text/plain": [
       "0"
      ]
     },
     "execution_count": 197,
     "metadata": {},
     "output_type": "execute_result"
    }
   ],
   "source": [
    "pip_list = subprocess.Popen(['pip', 'list'], stdout=subprocess.PIPE)\n",
    "output = subprocess.Popen(('grep', 'cookie'), stdin=pip_list.stdout, stdout=subprocess.PIPE)\n",
    "pip_list.wait()"
   ]
  },
  {
   "cell_type": "code",
   "execution_count": 198,
   "metadata": {},
   "outputs": [
    {
     "data": {
      "text/plain": [
       "b'cookiecutter                      1.7.2\\n'"
      ]
     },
     "execution_count": 198,
     "metadata": {},
     "output_type": "execute_result"
    }
   ],
   "source": [
    "output.stdout.read()"
   ]
  },
  {
   "cell_type": "code",
   "execution_count": 199,
   "metadata": {},
   "outputs": [],
   "source": [
    "!mkdir templates"
   ]
  },
  {
   "cell_type": "code",
   "execution_count": 200,
   "metadata": {},
   "outputs": [
    {
     "name": "stdout",
     "output_type": "stream",
     "text": [
      "Writing templates/system_status.txt\n"
     ]
    }
   ],
   "source": [
    "%%writefile templates/system_status.txt\n",
    "This will be a system status report\n",
    "\n",
    "{{ free_space }}\n",
    "{{ used_space }}"
   ]
  },
  {
   "cell_type": "code",
   "execution_count": 201,
   "metadata": {},
   "outputs": [],
   "source": [
    "from jinja2 import Environment, FileSystemLoader\n",
    "env = Environment(\n",
    "    loader=FileSystemLoader('templates')\n",
    ")"
   ]
  },
  {
   "cell_type": "code",
   "execution_count": 202,
   "metadata": {},
   "outputs": [],
   "source": [
    "template = env.get_template('system_status.txt')"
   ]
  },
  {
   "cell_type": "code",
   "execution_count": 203,
   "metadata": {},
   "outputs": [
    {
     "data": {
      "text/plain": [
       "'This will be a system status report\\n\\n\\n'"
      ]
     },
     "execution_count": 203,
     "metadata": {},
     "output_type": "execute_result"
    }
   ],
   "source": [
    "template.render()"
   ]
  },
  {
   "cell_type": "code",
   "execution_count": 204,
   "metadata": {},
   "outputs": [
    {
     "name": "stdout",
     "output_type": "stream",
     "text": [
      "This will be a system status report\n",
      "\n",
      "123\n",
      "456\n"
     ]
    }
   ],
   "source": [
    "print(template.render(free_space=123, used_space=456))"
   ]
  },
  {
   "cell_type": "code",
   "execution_count": 206,
   "metadata": {},
   "outputs": [
    {
     "name": "stdout",
     "output_type": "stream",
     "text": [
      "Overwriting templates/system_status.txt\n"
     ]
    }
   ],
   "source": [
    "%%writefile templates/system_status.txt\n",
    "This will be a system status report\n",
    "\n",
    "{% for filename, filesize in csvs.items() %}\n",
    "{{ filename }}, {{ filesize | abs }}\n",
    "{% endfor %}"
   ]
  },
  {
   "cell_type": "code",
   "execution_count": 207,
   "metadata": {},
   "outputs": [],
   "source": [
    "csvs = {'name.csv': 123}"
   ]
  },
  {
   "cell_type": "code",
   "execution_count": 208,
   "metadata": {},
   "outputs": [
    {
     "data": {
      "text/plain": [
       "'This will be a system status report\\n\\n\\nname.csv, 123\\n'"
      ]
     },
     "execution_count": 208,
     "metadata": {},
     "output_type": "execute_result"
    }
   ],
   "source": [
    "template = env.get_template('system_status.txt')\n",
    "template.render(csvs=csvs)"
   ]
  },
  {
   "cell_type": "code",
   "execution_count": 210,
   "metadata": {},
   "outputs": [],
   "source": [
    "import humanize"
   ]
  },
  {
   "cell_type": "code",
   "execution_count": 211,
   "metadata": {},
   "outputs": [
    {
     "data": {
      "text/plain": [
       "'123 Bytes'"
      ]
     },
     "execution_count": 211,
     "metadata": {},
     "output_type": "execute_result"
    }
   ],
   "source": [
    "humanize.naturalsize(123)"
   ]
  },
  {
   "cell_type": "code",
   "execution_count": 212,
   "metadata": {},
   "outputs": [],
   "source": [
    "env.filters['naturalsize'] = humanize.naturalsize"
   ]
  },
  {
   "cell_type": "code",
   "execution_count": 213,
   "metadata": {},
   "outputs": [],
   "source": [
    "from glob import glob\n",
    "import os.path"
   ]
  },
  {
   "cell_type": "code",
   "execution_count": 214,
   "metadata": {},
   "outputs": [],
   "source": [
    "csvs = {path: os.path.getsize(path) for path in glob('/Data/*.csv')}"
   ]
  },
  {
   "cell_type": "code",
   "execution_count": 226,
   "metadata": {},
   "outputs": [
    {
     "name": "stdout",
     "output_type": "stream",
     "text": [
      "Overwriting templates/system_status.txt\n"
     ]
    }
   ],
   "source": [
    "%%writefile templates/system_status.txt\n",
    "This will be a system status report\n",
    "\n",
    "{%- for filename, filesize in csvs.items() %}\n",
    "{{ filename }}, {{ filesize | naturalsize }}{# the vertical bar is to pass the value on the left to a filter #}\n",
    "{%- endfor %}"
   ]
  },
  {
   "cell_type": "code",
   "execution_count": 227,
   "metadata": {},
   "outputs": [],
   "source": [
    "template = env.get_template('system_status.txt')"
   ]
  },
  {
   "cell_type": "code",
   "execution_count": 228,
   "metadata": {},
   "outputs": [
    {
     "name": "stdout",
     "output_type": "stream",
     "text": [
      "This will be a system status report\n",
      "/Data/peak_sunlight_hours.csv, 4.4 kB\n",
      "/Data/sampled_tesla.csv, 6.7 kB\n",
      "/Data/surnames.csv, 8.6 MB\n",
      "/Data/melb_monthly_weather_086071.csv, 47.3 kB\n",
      "/Data/interest_inflation_aud.csv, 3.2 kB\n",
      "/Data/bank-small.csv, 919.0 kB\n",
      "/Data/gapminder-health-income.csv, 5.3 kB\n",
      "/Data/abalone.csv, 192.0 kB\n",
      "/Data/calories.csv, 48.2 kB\n",
      "/Data/LIBOR.csv, 168.9 kB\n",
      "/Data/heights_and_weights.csv, 36.1 kB\n",
      "/Data/darwin-temp.csv, 31.0 kB\n",
      "/Data/tips.csv, 7.9 kB\n",
      "/Data/gapminderDataFiveYear.csv, 99.8 kB\n",
      "/Data/countries.csv, 7.0 kB\n",
      "/Data/melbourne-temp.csv, 13.7 kB\n",
      "/Data/calories_clean.csv, 48.2 kB\n",
      "/Data/world_bank_countries_data.csv, 87.6 kB\n",
      "/Data/fed.csv, 15.7 kB\n",
      "/Data/baby-names.csv, 7.4 MB\n",
      "/Data/country_populations_by_year.csv, 171.8 kB\n",
      "/Data/electricity_meter_usage_2017a.csv, 56.7 kB\n",
      "/Data/public_holidays.csv, 35.2 kB\n",
      "/Data/eight_schools.csv, 128 Bytes\n",
      "/Data/wine.csv, 11.6 kB\n",
      "/Data/oecd_stats.csv, 3.2 kB\n",
      "/Data/Auto.csv, 20.5 kB\n",
      "/Data/study_hours.csv, 154 Bytes\n",
      "/Data/coal_mining_disasters.csv, 1.0 kB\n",
      "/Data/forbes.csv, 100.1 kB\n",
      "/Data/mushrooms.csv, 1.3 MB\n",
      "/Data/bundoora-temp.csv, 13.7 kB\n",
      "/Data/big-mac-full-index.csv, 181.1 kB\n",
      "/Data/boston.csv, 37.7 kB\n",
      "/Data/basketball.csv, 84.9 kB\n",
      "/Data/forbes1964.csv, 100.1 kB\n",
      "/Data/olympics2012.csv, 3.4 kB\n"
     ]
    }
   ],
   "source": [
    "print(template.render(csvs=csvs))"
   ]
  },
  {
   "cell_type": "code",
   "execution_count": null,
   "metadata": {},
   "outputs": [],
   "source": []
  }
 ],
 "metadata": {
  "kernelspec": {
   "display_name": "Python 3",
   "language": "python",
   "name": "python3"
  },
  "language_info": {
   "codemirror_mode": {
    "name": "ipython",
    "version": 3
   },
   "file_extension": ".py",
   "mimetype": "text/x-python",
   "name": "python",
   "nbconvert_exporter": "python",
   "pygments_lexer": "ipython3",
   "version": "3.8.4"
  }
 },
 "nbformat": 4,
 "nbformat_minor": 4
}
