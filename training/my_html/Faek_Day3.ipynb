{
 "cells": [
  {
   "cell_type": "markdown",
   "metadata": {},
   "source": [
    "# Intermediate Python for Engineers Day 3\n",
    "\n",
    "Welcome!\n",
    "\n",
    "# Setup\n",
    "\n",
    "Here are some setup instructions:\n",
    "\n",
    "## Browser\n",
    "\n",
    "Please use Chrome or Firefox or Safari. *Preferably not IE or Edge*.\n",
    "\n",
    "## Jupyter notebook server\n",
    "\n",
    "1. Go to [https://hub.pythoncharmers.com/](https://hub.pythoncharmers.com/)\n",
    "2. Your username is your email address\n",
    "3. The password is the same as you used to log in to Zulip and is in the setup email.\n",
    "\n",
    "## Load up your notebook\n",
    "\n",
    "- It will be called \"Yourname Day 3.ipynb\".\n",
    "- Save it (Control-S or File | Save Notebook).\n",
    "\n",
    "We'll give more instructions on getting started with the notebooks as we start the course.\n",
    "\n",
    "## Zulip chat server\n",
    "\n",
    "1. Go to [https://pythoncharmers.zulipchat.com](https://pythoncharmers.zulipchat.com)\n",
    "2. **Test:** Please send a message to our stream (#**485 Python for Engineers** ) saying Hi!\n",
    "\n",
    "## Resources\n",
    "\n",
    "- Please download the course materials PDF (in your home folder)\n",
    "- You may also download the `.zip` file containing the Jupyter Notebooks of the course materials\n",
    "\n",
    "## Trainer notebook\n",
    "\n",
    "We suggest that you load up the trainer's notebook from the Trainer folder in a separate browser tab and reload when needed.\n",
    "\n",
    "(To do this, right-click the file, then choose \"Open in New Browser Tab\". Then hit F5 or Command-R whenever you want to see the latest version of the trainer's notebook.)"
   ]
  },
  {
   "cell_type": "markdown",
   "metadata": {},
   "source": [
    "## Session 3: Best practices\n",
    "\n",
    "- *PyCharm* IDE; debugging tools\n",
    "- Logging; debugging practices\n",
    "- Python style and docstring conventions; linting: *pylint*, *Black*\n",
    "- Type hinting\n",
    "- Creating modules and reusable packages; structuring projects\n",
    "- (Time permitting) Concurrency and parallelism"
   ]
  },
  {
   "cell_type": "code",
   "execution_count": 21,
   "metadata": {},
   "outputs": [],
   "source": [
    "def double(myvar):\n",
    "    print(id(myvar))\n",
    "    # myvar *= 2\n",
    "    myvar = myvar * 2\n",
    "    print(id(myvar))"
   ]
  },
  {
   "cell_type": "code",
   "execution_count": 22,
   "metadata": {},
   "outputs": [],
   "source": [
    "names = ['Panos', 'Joery', 'David']"
   ]
  },
  {
   "cell_type": "code",
   "execution_count": 23,
   "metadata": {},
   "outputs": [
    {
     "name": "stdout",
     "output_type": "stream",
     "text": [
      "139734419915520\n",
      "139734419973888\n"
     ]
    }
   ],
   "source": [
    "double(names)"
   ]
  },
  {
   "cell_type": "code",
   "execution_count": 24,
   "metadata": {},
   "outputs": [
    {
     "data": {
      "text/plain": [
       "['Panos', 'Joery', 'David']"
      ]
     },
     "execution_count": 24,
     "metadata": {},
     "output_type": "execute_result"
    }
   ],
   "source": [
    "names"
   ]
  },
  {
   "cell_type": "code",
   "execution_count": 25,
   "metadata": {},
   "outputs": [],
   "source": [
    "y = 2.15"
   ]
  },
  {
   "cell_type": "code",
   "execution_count": 26,
   "metadata": {},
   "outputs": [
    {
     "name": "stdout",
     "output_type": "stream",
     "text": [
      "139734419674544\n",
      "139734419674896\n"
     ]
    }
   ],
   "source": [
    "double(y)"
   ]
  },
  {
   "cell_type": "code",
   "execution_count": 27,
   "metadata": {},
   "outputs": [
    {
     "data": {
      "text/plain": [
       "2.15"
      ]
     },
     "execution_count": 27,
     "metadata": {},
     "output_type": "execute_result"
    }
   ],
   "source": [
    "y"
   ]
  },
  {
   "cell_type": "code",
   "execution_count": 28,
   "metadata": {},
   "outputs": [],
   "source": [
    "data = b'123a4'"
   ]
  },
  {
   "cell_type": "code",
   "execution_count": 29,
   "metadata": {},
   "outputs": [
    {
     "name": "stdout",
     "output_type": "stream",
     "text": [
      "139734419235920\n",
      "139734419235296\n"
     ]
    }
   ],
   "source": [
    "double(data)"
   ]
  },
  {
   "cell_type": "code",
   "execution_count": 30,
   "metadata": {},
   "outputs": [
    {
     "data": {
      "text/plain": [
       "b'123a4'"
      ]
     },
     "execution_count": 30,
     "metadata": {},
     "output_type": "execute_result"
    }
   ],
   "source": [
    "data"
   ]
  },
  {
   "cell_type": "code",
   "execution_count": 32,
   "metadata": {},
   "outputs": [
    {
     "data": {
      "text/plain": [
       "(1, 2)"
      ]
     },
     "execution_count": 32,
     "metadata": {},
     "output_type": "execute_result"
    }
   ],
   "source": [
    "a = 1\n",
    "b = 2\n",
    "a,b"
   ]
  },
  {
   "cell_type": "code",
   "execution_count": 34,
   "metadata": {},
   "outputs": [],
   "source": [
    "def swap (a, b):\n",
    "    a , b = b, a"
   ]
  },
  {
   "cell_type": "code",
   "execution_count": 35,
   "metadata": {},
   "outputs": [],
   "source": [
    "swap(a, b)"
   ]
  },
  {
   "cell_type": "code",
   "execution_count": 36,
   "metadata": {},
   "outputs": [
    {
     "data": {
      "text/plain": [
       "2"
      ]
     },
     "execution_count": 36,
     "metadata": {},
     "output_type": "execute_result"
    }
   ],
   "source": [
    "a\n",
    "b"
   ]
  },
  {
   "cell_type": "code",
   "execution_count": 62,
   "metadata": {},
   "outputs": [
    {
     "name": "stdout",
     "output_type": "stream",
     "text": [
      "Requirement already satisfied: python-json-logger in /opt/conda/lib/python3.8/site-packages (0.1.11)\n"
     ]
    }
   ],
   "source": [
    "!pip install python-json-logger"
   ]
  },
  {
   "cell_type": "code",
   "execution_count": 63,
   "metadata": {},
   "outputs": [
    {
     "name": "stderr",
     "output_type": "stream",
     "text": [
      "WARNING:root:A warning - big and red\n"
     ]
    }
   ],
   "source": [
    "import logging\n",
    "logging.basicConfig() \n",
    "logging.warning('A warning - big and red')\n",
    "logging.debug('I will not see this')"
   ]
  },
  {
   "cell_type": "code",
   "execution_count": 64,
   "metadata": {},
   "outputs": [],
   "source": [
    "from pythonjsonlogger import jsonlogger\n",
    "formatter = jsonlogger.JsonFormatter()"
   ]
  },
  {
   "cell_type": "code",
   "execution_count": 65,
   "metadata": {},
   "outputs": [],
   "source": [
    "handler = logging.StreamHandler()  # this logs to sys.stdout"
   ]
  },
  {
   "cell_type": "code",
   "execution_count": 66,
   "metadata": {},
   "outputs": [],
   "source": [
    "handler.setFormatter(formatter)"
   ]
  },
  {
   "cell_type": "code",
   "execution_count": 67,
   "metadata": {},
   "outputs": [],
   "source": [
    "handler.setLevel(logging.DEBUG)"
   ]
  },
  {
   "cell_type": "code",
   "execution_count": 70,
   "metadata": {},
   "outputs": [],
   "source": [
    "logger = logging.getLogger('imc')"
   ]
  },
  {
   "cell_type": "code",
   "execution_count": 71,
   "metadata": {},
   "outputs": [],
   "source": [
    "logger.addHandler(handler)"
   ]
  },
  {
   "cell_type": "code",
   "execution_count": 72,
   "metadata": {},
   "outputs": [],
   "source": [
    "logger.setLevel(logging.DEBUG)"
   ]
  },
  {
   "cell_type": "code",
   "execution_count": 73,
   "metadata": {},
   "outputs": [],
   "source": [
    "handler.setFormatter(formatter)"
   ]
  },
  {
   "cell_type": "code",
   "execution_count": null,
   "metadata": {},
   "outputs": [],
   "source": []
  },
  {
   "cell_type": "code",
   "execution_count": 74,
   "metadata": {},
   "outputs": [
    {
     "name": "stderr",
     "output_type": "stream",
     "text": [
      "{\"message\": \"A debug message\"}\n",
      "DEBUG:imc:A debug message\n",
      "{\"message\": \"A warning message\"}\n",
      "WARNING:imc:A warning message\n",
      "{\"message\": \"unsupported operand type(s) for +: 'int' and 'str'\", \"exc_info\": \"Traceback (most recent call last):\\n  File \\\"<ipython-input-74-076469d4385a>\\\", line 4, in <module>\\n    1 + '1'\\nTypeError: unsupported operand type(s) for +: 'int' and 'str'\"}\n",
      "ERROR:imc:unsupported operand type(s) for +: 'int' and 'str'\n",
      "Traceback (most recent call last):\n",
      "  File \"<ipython-input-74-076469d4385a>\", line 4, in <module>\n",
      "    1 + '1'\n",
      "TypeError: unsupported operand type(s) for +: 'int' and 'str'\n"
     ]
    }
   ],
   "source": [
    "logger.debug(\"A debug message\")\n",
    "logger.warning(\"A warning message\")\n",
    "try:\n",
    "    1 + '1'\n",
    "except TypeError as e:\n",
    "    logger.exception(e)  # to capture the traceback"
   ]
  },
  {
   "cell_type": "code",
   "execution_count": 77,
   "metadata": {},
   "outputs": [],
   "source": [
    "!cp -r Trainer/newster ."
   ]
  },
  {
   "cell_type": "code",
   "execution_count": 85,
   "metadata": {},
   "outputs": [
    {
     "name": "stdout",
     "output_type": "stream",
     "text": [
      "************* Module newster\n",
      "newster.py:8:0: E0401: Unable to import 'newspaper' (import-error)\n",
      "newster.py:27:0: C0116: Missing function or method docstring (missing-function-docstring)\n",
      "newster.py:69:11: E1120: No value for argument 'self' in unbound method call (no-value-for-parameter)\n",
      "newster.py:28:4: W0612: Unused variable 'template' (unused-variable)\n",
      "\n",
      "------------------------------------------------------------------\n",
      "Your code has been rated at 5.00/10 (previous run: 4.58/10, +0.42)\n",
      "\n",
      "\u001b[0m"
     ]
    }
   ],
   "source": [
    "!pylint newster.py"
   ]
  },
  {
   "cell_type": "code",
   "execution_count": 101,
   "metadata": {},
   "outputs": [],
   "source": [
    "\n",
    "import typing\n",
    "\n",
    "MoneyType = typing.Union[float, int]\n",
    "\n",
    "class Account:\n",
    "    \n",
    "    balance: MoneyType = 0\n",
    "        \n",
    "    def deposit(self, money: MoneyType) -> None:  # in practice these type hints don't actually stop you doing anything\n",
    "        self.balance += money\n",
    "        \n",
    "    @typing.final   # this decorates the function to say it should be final\n",
    "    def withdraw(self, money: MoneyType) -> MoneyType:\n",
    "        if money > self.balance:\n",
    "            raise ValueError('not enough cash')\n",
    "        self.balance -= money\n",
    "        return money\n",
    "    \n",
    "class Savings(Account):\n",
    "    \n",
    "    def withdraw(self, money: MoneyType) -> MoneyType:\n",
    "        if (money - 100) > self.balance:\n",
    "            raise ValueError(\"Exceeded overdraw limit\")\n",
    "        self.balance -= money\n",
    "        return money\n",
    "           "
   ]
  },
  {
   "cell_type": "code",
   "execution_count": 91,
   "metadata": {
    "collapsed": true,
    "jupyter": {
     "outputs_hidden": true
    }
   },
   "outputs": [
    {
     "name": "stdout",
     "output_type": "stream",
     "text": [
      "Requirement already satisfied: mypy in /opt/conda/lib/python3.8/site-packages (0.790)\n",
      "Requirement already satisfied: typing-extensions>=3.7.4 in /opt/conda/lib/python3.8/site-packages (from mypy) (3.7.4.2)\n",
      "Requirement already satisfied: mypy-extensions<0.5.0,>=0.4.3 in /opt/conda/lib/python3.8/site-packages (from mypy) (0.4.3)\n",
      "Requirement already satisfied: typed-ast<1.5.0,>=1.4.0 in /opt/conda/lib/python3.8/site-packages (from mypy) (1.4.1)\n",
      "Note: you may need to restart the kernel to use updated packages.\n"
     ]
    }
   ],
   "source": [
    "pip install mypy"
   ]
  },
  {
   "cell_type": "code",
   "execution_count": 102,
   "metadata": {},
   "outputs": [
    {
     "name": "stdout",
     "output_type": "stream",
     "text": [
      "bank.py:21: \u001b[1m\u001b[31merror:\u001b[m Cannot override final attribute \u001b[m\u001b[1m\"withdraw\"\u001b[m (previously declared in base class \u001b[m\u001b[1m\"Account\"\u001b[m)\u001b[m\n",
      "\u001b[1m\u001b[31mFound 1 error in 1 file (checked 1 source file)\u001b[m\n"
     ]
    }
   ],
   "source": [
    "! mypy bank.py"
   ]
  },
  {
   "cell_type": "code",
   "execution_count": null,
   "metadata": {},
   "outputs": [],
   "source": [
    "! pip install cookiecutter"
   ]
  },
  {
   "cell_type": "code",
   "execution_count": null,
   "metadata": {},
   "outputs": [],
   "source": [
    "!cd /home/jovyan/newster"
   ]
  },
  {
   "cell_type": "code",
   "execution_count": null,
   "metadata": {},
   "outputs": [],
   "source": [
    "from newster import newster"
   ]
  },
  {
   "cell_type": "code",
   "execution_count": null,
   "metadata": {},
   "outputs": [],
   "source": [
    "newster.process_url('https://www.dutchnews.nl/news/2020/10/no-deal-brexit-will-cost-dutch-exporters-to-britain-e4-8bn/')"
   ]
  },
  {
   "cell_type": "code",
   "execution_count": null,
   "metadata": {},
   "outputs": [],
   "source": [
    "pip install -r requirements.txt"
   ]
  },
  {
   "cell_type": "code",
   "execution_count": null,
   "metadata": {},
   "outputs": [],
   "source": []
  }
 ],
 "metadata": {
  "kernelspec": {
   "display_name": "Python 3",
   "language": "python",
   "name": "python3"
  },
  "language_info": {
   "codemirror_mode": {
    "name": "ipython",
    "version": 3
   },
   "file_extension": ".py",
   "mimetype": "text/x-python",
   "name": "python",
   "nbconvert_exporter": "python",
   "pygments_lexer": "ipython3",
   "version": "3.8.4"
  }
 },
 "nbformat": 4,
 "nbformat_minor": 4
}
