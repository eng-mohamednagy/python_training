{
 "cells": [
  {
   "cell_type": "markdown",
   "metadata": {},
   "source": [
    "# Intermediate Python for Engineers - Day 2"
   ]
  },
  {
   "cell_type": "markdown",
   "metadata": {},
   "source": [
    "# Setup\n",
    "\n",
    "Here are some setup instructions:\n",
    "\n",
    "## Browser\n",
    "\n",
    "Please use Chrome or Firefox or Safari. *Preferably not IE or Edge*.\n",
    "\n",
    "## Jupyter notebook server\n",
    "\n",
    "1. Go to [https://hub.pythoncharmers.com/](https://hub.pythoncharmers.com/)\n",
    "2. Your username is your email address\n",
    "3. The password is the same as you used to log in to Zulip and is in the setup email.\n",
    "\n",
    "## Load up your notebook\n",
    "\n",
    "- It will be called \"Yourname Day 2.ipynb\".\n",
    "- Save it (Control-S or File | Save Notebook).\n",
    "\n",
    "We'll give more instructions on getting started with the notebooks as we start the course.\n",
    "\n",
    "## Zulip chat server\n",
    "\n",
    "1. Go to [https://pythoncharmers.zulipchat.com](https://pythoncharmers.zulipchat.com)\n",
    "2. **Test:** Please send a message to our stream (#**485 Python for Engineers** ) saying Hi!\n",
    "\n",
    "## Resources\n",
    "\n",
    "- Please download the course materials PDF (in your home folder)\n",
    "- You may also download the `.zip` file containing the Jupyter Notebooks of the course materials\n",
    "\n",
    "## Trainer notebook\n",
    "\n",
    "We suggest that you load up the trainer's notebook from the Trainer folder in a separate browser tab and reload when needed.\n",
    "\n",
    "(To do this, right-click the file, then choose \"Open in New Browser Tab\". Then hit F5 or Command-R whenever you want to see the latest version of the trainer's notebook.)"
   ]
  },
  {
   "cell_type": "markdown",
   "metadata": {},
   "source": [
    "### Session 2: Further language features\n",
    "\n",
    "Session 2 will teach you further Python language features and explain important distinctions and “gotchas” that help you with developing robust, efficient systems in Python:\n",
    "\n",
    "- Lazy sequences (continued)\n",
    "- When & how to use decorators\n",
    "    - Worked example: writing a disk-backed caching decorator\n",
    "    - Properties, class methods\n",
    "- Context managers:\n",
    "\t- Managing state; streamlining exception handling\n",
    "    - Worked example: elegant code beyond PEP8 with context managers\n",
    "- Managing memory\n",
    "\t- Mutability vs immutability\n",
    "\t- Memory profiling; garbage collection\n"
   ]
  },
  {
   "cell_type": "code",
   "execution_count": 3,
   "metadata": {},
   "outputs": [],
   "source": [
    "import math\n",
    "from calendar import isleap\n",
    "def leap_years(start, end=None):\n",
    "    print('Starting function ...')\n",
    "    if end is None:\n",
    "        end = math.inf\n",
    "    year = start - 1\n",
    "    while year < end:\n",
    "        year += 1\n",
    "        if isleap(year):\n",
    "            print('About to yield ...')\n",
    "            yield year\n",
    "            print('Resuming function ...')\n",
    "    print('Ending function')"
   ]
  },
  {
   "cell_type": "code",
   "execution_count": 4,
   "metadata": {},
   "outputs": [
    {
     "data": {
      "text/plain": [
       "<generator object leap_years at 0x7f0b946f84a0>"
      ]
     },
     "execution_count": 4,
     "metadata": {},
     "output_type": "execute_result"
    }
   ],
   "source": [
    "years = leap_years(2000, 2040)\n",
    "years"
   ]
  },
  {
   "cell_type": "code",
   "execution_count": 5,
   "metadata": {},
   "outputs": [
    {
     "name": "stdout",
     "output_type": "stream",
     "text": [
      "Starting function ...\n",
      "About to yield ...\n"
     ]
    },
    {
     "data": {
      "text/plain": [
       "2000"
      ]
     },
     "execution_count": 5,
     "metadata": {},
     "output_type": "execute_result"
    }
   ],
   "source": [
    "next(years)"
   ]
  },
  {
   "cell_type": "code",
   "execution_count": 6,
   "metadata": {},
   "outputs": [
    {
     "name": "stdout",
     "output_type": "stream",
     "text": [
      "Resuming function ...\n",
      "About to yield ...\n",
      "Resuming function ...\n",
      "About to yield ...\n",
      "Resuming function ...\n",
      "About to yield ...\n",
      "Resuming function ...\n",
      "About to yield ...\n",
      "Resuming function ...\n",
      "About to yield ...\n",
      "Resuming function ...\n",
      "About to yield ...\n",
      "Resuming function ...\n",
      "About to yield ...\n",
      "Resuming function ...\n",
      "About to yield ...\n",
      "Resuming function ...\n",
      "About to yield ...\n",
      "Resuming function ...\n",
      "About to yield ...\n",
      "Resuming function ...\n",
      "Ending function\n"
     ]
    },
    {
     "data": {
      "text/plain": [
       "[2004, 2008, 2012, 2016, 2020, 2024, 2028, 2032, 2036, 2040]"
      ]
     },
     "execution_count": 6,
     "metadata": {},
     "output_type": "execute_result"
    }
   ],
   "source": [
    "list(years)"
   ]
  },
  {
   "cell_type": "code",
   "execution_count": 10,
   "metadata": {},
   "outputs": [],
   "source": [
    "def weekDays():\n",
    "    yield 'Monday'\n",
    "    yield 'Tuesday'\n",
    "    yield 'Wednesday'\n",
    "    yield 'Thursday'\n",
    "    yield 'Friday'"
   ]
  },
  {
   "cell_type": "code",
   "execution_count": 11,
   "metadata": {},
   "outputs": [],
   "source": [
    "w = weekDays()"
   ]
  },
  {
   "cell_type": "code",
   "execution_count": 13,
   "metadata": {},
   "outputs": [
    {
     "data": {
      "text/plain": [
       "'Tuesday'"
      ]
     },
     "execution_count": 13,
     "metadata": {},
     "output_type": "execute_result"
    }
   ],
   "source": [
    "next(w)"
   ]
  },
  {
   "cell_type": "code",
   "execution_count": 26,
   "metadata": {},
   "outputs": [],
   "source": [
    "import toolz as tz\n",
    "import os\n",
    "from pathlib import Path\n",
    "data_folder = Path('/Data')\n",
    "paths = data_folder.glob('*')\n",
    "files = list(filter(os.path.isfile, paths))\n",
    "    \n",
    "def get_ext(path):\n",
    "    return path.suffix\n",
    "def get_filesize(path):\n",
    "    return path.stat().st_size\n",
    "paths_by_ext = tz.groupby(get_ext, files)\n",
    "\n",
    "def count_size_by_extension(paths_by_ext: dict) -> dict:\n",
    "    return {extension: sum(get_filesize(file) for file in files)\n",
    "            for extension, files in paths_by_ext.items()}"
   ]
  },
  {
   "cell_type": "code",
   "execution_count": 27,
   "metadata": {},
   "outputs": [
    {
     "data": {
      "text/plain": [
       "{'.txt': 4810857,\n",
       " '.gexf': 120238,\n",
       " '.hdf': 476544,\n",
       " '.pdf': 13947496,\n",
       " '.zip': 5274816,\n",
       " '.csv': 19871826,\n",
       " '.bz2': 10575422,\n",
       " '.xlsx': 1658671,\n",
       " '.sqlite': 12931072,\n",
       " '.jpg': 489445,\n",
       " '.xz': 138236,\n",
       " '.png': 2255125,\n",
       " '.h5': 25877534,\n",
       " '.parquet': 4156633,\n",
       " '.xls': 3543040,\n",
       " '.hdf5': 176120,\n",
       " '.json': 207544,\n",
       " '.gz': 9334755,\n",
       " '': 9,\n",
       " '.bin': 12288,\n",
       " '.ipynb': 11733,\n",
       " '.mat': 61832,\n",
       " '.npz': 1436}"
      ]
     },
     "execution_count": 27,
     "metadata": {},
     "output_type": "execute_result"
    }
   ],
   "source": [
    "count_size_by_extension(paths_by_ext)"
   ]
  },
  {
   "cell_type": "code",
   "execution_count": 41,
   "metadata": {},
   "outputs": [],
   "source": [
    "import hashlib\n",
    "import collections\n",
    "\n",
    "def get_hash(filename):\n",
    "    \"\"\"Read the given file's contents and return the MD5 checksum.\n",
    "    \n",
    "    If the file doesn't exist, raise an exception.\n",
    "    \"\"\"\n",
    "    path = Path(filename)\n",
    "    data = path.read_bytes()\n",
    "    hasher = hashlib.md5(data)   # pass a byte-string\n",
    "    return hasher.hexdigest()\n",
    "\n",
    "get_hash('/Data/abalone.csv')\n",
    "hashes = tz.groupby(get_hash, files)\n",
    "\n",
    "hashes_inv = tz.groupby(get_hash, files)\n",
    "result = tz.valfilter(lambda data: len(data) > 1, hashes_inv)\n",
    "\n",
    "\n",
    "#print([item for item, count in collections.Counter(hashes).items() if count > 1])"
   ]
  },
  {
   "cell_type": "code",
   "execution_count": 43,
   "metadata": {},
   "outputs": [
    {
     "data": {
      "text/plain": [
       "{'d41d8cd98f00b204e9800998ecf8427e': [PosixPath('/Data/Airports.sqlite'),\n",
       "  PosixPath('/Data/response.xlsx')],\n",
       " '79adb24ba37966d25928bcfcab8ae81e': [PosixPath('/Data/big-mac-2020-01-14.xls'),\n",
       "  PosixPath('/Data/big-mac.xls')],\n",
       " '9b630a5faeef79758df24f372cc1a7ca': [PosixPath('/Data/melbourne-temp.csv'),\n",
       "  PosixPath('/Data/bundoora-temp.csv')],\n",
       " '5c5729dadb801b8d478634a237e1b4bd': [PosixPath('/Data/forbes.csv'),\n",
       "  PosixPath('/Data/forbes1964.csv')]}"
      ]
     },
     "execution_count": 43,
     "metadata": {},
     "output_type": "execute_result"
    }
   ],
   "source": [
    "result"
   ]
  },
  {
   "cell_type": "code",
   "execution_count": 50,
   "metadata": {},
   "outputs": [],
   "source": [
    "def make_bold(func):\n",
    "    def inner(*args):\n",
    "        print(type(args), args)\n",
    "        return '<b>' + func(*args) + '</b>'\n",
    "    # Important:\n",
    "    return inner"
   ]
  },
  {
   "cell_type": "code",
   "execution_count": 51,
   "metadata": {},
   "outputs": [],
   "source": [
    "def hello(name):\n",
    "    return f'Hello {name}!'"
   ]
  },
  {
   "cell_type": "code",
   "execution_count": 52,
   "metadata": {},
   "outputs": [],
   "source": [
    "bold_hello = make_bold(hello)"
   ]
  },
  {
   "cell_type": "code",
   "execution_count": 53,
   "metadata": {},
   "outputs": [
    {
     "name": "stdout",
     "output_type": "stream",
     "text": [
      "<class 'tuple'> ('Ed',)\n"
     ]
    },
    {
     "data": {
      "text/plain": [
       "'<b>Hello Ed!</b>'"
      ]
     },
     "execution_count": 53,
     "metadata": {},
     "output_type": "execute_result"
    }
   ],
   "source": [
    "bold_hello('Ed')\n"
   ]
  },
  {
   "cell_type": "code",
   "execution_count": 66,
   "metadata": {},
   "outputs": [],
   "source": [
    "import time\n",
    "\n",
    "def timeme(func):\n",
    "    def inner(*args, **kwargs):\n",
    "        print(kwargs)\n",
    "        start_time = time.time()\n",
    "        result = func(*args, **kwargs)        \n",
    "        end_time = time.time()\n",
    "        print(f\"Time passed {end_time - start_time}\")\n",
    "        return result\n",
    "    return inner"
   ]
  },
  {
   "cell_type": "code",
   "execution_count": 67,
   "metadata": {},
   "outputs": [],
   "source": [
    "@timeme\n",
    "def hello(text, sleep=1):\n",
    "    time.sleep(sleep)\n",
    "    return text"
   ]
  },
  {
   "cell_type": "code",
   "execution_count": 68,
   "metadata": {},
   "outputs": [
    {
     "name": "stdout",
     "output_type": "stream",
     "text": [
      "{'sleep': 2}\n",
      "Time passed 2.0020434856414795\n"
     ]
    },
    {
     "data": {
      "text/plain": [
       "'Rob'"
      ]
     },
     "execution_count": 68,
     "metadata": {},
     "output_type": "execute_result"
    }
   ],
   "source": [
    "hello('Rob', sleep=2)"
   ]
  },
  {
   "cell_type": "code",
   "execution_count": 85,
   "metadata": {},
   "outputs": [],
   "source": [
    "\n",
    "def bounded(lower, upper):\n",
    "    def decorator(func):\n",
    "        def inner(*args, **kwargs):\n",
    "            for arg in args:\n",
    "                if not lower <= arg <= upper:\n",
    "                    raise ValueError(f'arg must be between {lower} and {upper}')\n",
    "            return func(*args, **kwargs)\n",
    "        return inner\n",
    "    return decorator\n"
   ]
  },
  {
   "cell_type": "code",
   "execution_count": 86,
   "metadata": {},
   "outputs": [],
   "source": [
    "@bounded(3, 4)\n",
    "def square(x):\n",
    "    return x**2"
   ]
  },
  {
   "cell_type": "code",
   "execution_count": 87,
   "metadata": {},
   "outputs": [],
   "source": [
    "class Simple:\n",
    "    def hello(self):\n",
    "        print('Hello')"
   ]
  },
  {
   "cell_type": "code",
   "execution_count": 88,
   "metadata": {},
   "outputs": [],
   "source": [
    "from contextlib import contextmanager   # decorator you apply to a gen function\n",
    "\n",
    "@contextmanager\n",
    "def context_hello():\n",
    "    # __enter__ block\n",
    "    print('__enter__')\n",
    "    \n",
    "    try:\n",
    "        yield Simple()\n",
    "    except Exception as e:\n",
    "        print(e)\n",
    "        \n",
    "    # __exit__ block\n",
    "    print('__exit__')"
   ]
  },
  {
   "cell_type": "code",
   "execution_count": 89,
   "metadata": {},
   "outputs": [
    {
     "name": "stdout",
     "output_type": "stream",
     "text": [
      "__enter__\n",
      "division by zero\n",
      "__exit__\n"
     ]
    }
   ],
   "source": [
    "with context_hello() as obj:\n",
    "    1 / 0\n",
    "    obj.hello()"
   ]
  },
  {
   "cell_type": "code",
   "execution_count": 101,
   "metadata": {},
   "outputs": [],
   "source": [
    "import os\n",
    "import pandas as pd\n",
    "@contextmanager\n",
    "def move_directory(path):\n",
    "    old_cwd = os.getcwd()\n",
    "    os.chdir(path)\n",
    "    try:\n",
    "        yield\n",
    "    except Exception as e:\n",
    "        print(e)\n",
    "    \n",
    "    os.chdir(old_cwd)"
   ]
  },
  {
   "cell_type": "code",
   "execution_count": 102,
   "metadata": {},
   "outputs": [
    {
     "name": "stdout",
     "output_type": "stream",
     "text": [
      "/\n",
      "/home/data/Data\n"
     ]
    },
    {
     "data": {
      "text/html": [
       "<div>\n",
       "<style scoped>\n",
       "    .dataframe tbody tr th:only-of-type {\n",
       "        vertical-align: middle;\n",
       "    }\n",
       "\n",
       "    .dataframe tbody tr th {\n",
       "        vertical-align: top;\n",
       "    }\n",
       "\n",
       "    .dataframe thead th {\n",
       "        text-align: right;\n",
       "    }\n",
       "</style>\n",
       "<table border=\"1\" class=\"dataframe\">\n",
       "  <thead>\n",
       "    <tr style=\"text-align: right;\">\n",
       "      <th></th>\n",
       "      <th>rank</th>\n",
       "      <th>name</th>\n",
       "      <th>country</th>\n",
       "      <th>sales</th>\n",
       "      <th>profits</th>\n",
       "      <th>assets</th>\n",
       "      <th>marketvalue</th>\n",
       "    </tr>\n",
       "  </thead>\n",
       "  <tbody>\n",
       "    <tr>\n",
       "      <th>0</th>\n",
       "      <td>1</td>\n",
       "      <td>Citigroup</td>\n",
       "      <td>United States</td>\n",
       "      <td>94.71</td>\n",
       "      <td>17.85</td>\n",
       "      <td>1264.03</td>\n",
       "      <td>255.30</td>\n",
       "    </tr>\n",
       "    <tr>\n",
       "      <th>1</th>\n",
       "      <td>2</td>\n",
       "      <td>General Electric</td>\n",
       "      <td>United States</td>\n",
       "      <td>134.19</td>\n",
       "      <td>15.59</td>\n",
       "      <td>626.93</td>\n",
       "      <td>328.54</td>\n",
       "    </tr>\n",
       "    <tr>\n",
       "      <th>2</th>\n",
       "      <td>3</td>\n",
       "      <td>American Intl Group</td>\n",
       "      <td>United States</td>\n",
       "      <td>76.66</td>\n",
       "      <td>6.46</td>\n",
       "      <td>647.66</td>\n",
       "      <td>194.87</td>\n",
       "    </tr>\n",
       "  </tbody>\n",
       "</table>\n",
       "</div>"
      ],
      "text/plain": [
       "   rank                 name        country   sales  profits   assets  \\\n",
       "0     1            Citigroup  United States   94.71    17.85  1264.03   \n",
       "1     2     General Electric  United States  134.19    15.59   626.93   \n",
       "2     3  American Intl Group  United States   76.66     6.46   647.66   \n",
       "\n",
       "   marketvalue  \n",
       "0       255.30  \n",
       "1       328.54  \n",
       "2       194.87  "
      ]
     },
     "metadata": {},
     "output_type": "display_data"
    },
    {
     "name": "stdout",
     "output_type": "stream",
     "text": [
      "/\n"
     ]
    }
   ],
   "source": [
    "import pandas as pd\n",
    "\n",
    "print(os.getcwd())\n",
    "with move_directory('/Data'):\n",
    "    print(os.getcwd())\n",
    "    forbes = pd.read_csv('forbes.csv')\n",
    "\n",
    "display(forbes[:3])\n",
    "    \n",
    "print(os.getcwd())"
   ]
  },
  {
   "cell_type": "code",
   "execution_count": 103,
   "metadata": {},
   "outputs": [
    {
     "data": {
      "text/html": [
       "<div>\n",
       "<style scoped>\n",
       "    .dataframe tbody tr th:only-of-type {\n",
       "        vertical-align: middle;\n",
       "    }\n",
       "\n",
       "    .dataframe tbody tr th {\n",
       "        vertical-align: top;\n",
       "    }\n",
       "\n",
       "    .dataframe thead th {\n",
       "        text-align: right;\n",
       "    }\n",
       "</style>\n",
       "<table border=\"1\" class=\"dataframe\">\n",
       "  <thead>\n",
       "    <tr style=\"text-align: right;\">\n",
       "      <th></th>\n",
       "      <th>rank</th>\n",
       "      <th>name</th>\n",
       "      <th>country</th>\n",
       "      <th>sales</th>\n",
       "      <th>profits</th>\n",
       "      <th>assets</th>\n",
       "      <th>marketvalue</th>\n",
       "    </tr>\n",
       "  </thead>\n",
       "  <tbody>\n",
       "    <tr>\n",
       "      <th>0</th>\n",
       "      <td>1</td>\n",
       "      <td>Citigroup</td>\n",
       "      <td>United States</td>\n",
       "      <td>94.71</td>\n",
       "      <td>17.85</td>\n",
       "      <td>1264.03</td>\n",
       "      <td>255.30</td>\n",
       "    </tr>\n",
       "    <tr>\n",
       "      <th>1</th>\n",
       "      <td>2</td>\n",
       "      <td>General Electric</td>\n",
       "      <td>United States</td>\n",
       "      <td>134.19</td>\n",
       "      <td>15.59</td>\n",
       "      <td>626.93</td>\n",
       "      <td>328.54</td>\n",
       "    </tr>\n",
       "    <tr>\n",
       "      <th>2</th>\n",
       "      <td>3</td>\n",
       "      <td>American Intl Group</td>\n",
       "      <td>United States</td>\n",
       "      <td>76.66</td>\n",
       "      <td>6.46</td>\n",
       "      <td>647.66</td>\n",
       "      <td>194.87</td>\n",
       "    </tr>\n",
       "  </tbody>\n",
       "</table>\n",
       "</div>"
      ],
      "text/plain": [
       "   rank                 name        country   sales  profits   assets  \\\n",
       "0     1            Citigroup  United States   94.71    17.85  1264.03   \n",
       "1     2     General Electric  United States  134.19    15.59   626.93   \n",
       "2     3  American Intl Group  United States   76.66     6.46   647.66   \n",
       "\n",
       "   marketvalue  \n",
       "0       255.30  \n",
       "1       328.54  \n",
       "2       194.87  "
      ]
     },
     "execution_count": 103,
     "metadata": {},
     "output_type": "execute_result"
    }
   ],
   "source": [
    "with move_directory('Data'):\n",
    "    forbes = pd.read_csv('forbes.csv')\n",
    "\n",
    "forbes[:3]"
   ]
  },
  {
   "cell_type": "code",
   "execution_count": 104,
   "metadata": {},
   "outputs": [
    {
     "data": {
      "text/html": [
       "<div>\n",
       "<style scoped>\n",
       "    .dataframe tbody tr th:only-of-type {\n",
       "        vertical-align: middle;\n",
       "    }\n",
       "\n",
       "    .dataframe tbody tr th {\n",
       "        vertical-align: top;\n",
       "    }\n",
       "\n",
       "    .dataframe thead th {\n",
       "        text-align: right;\n",
       "    }\n",
       "</style>\n",
       "<table border=\"1\" class=\"dataframe\">\n",
       "  <thead>\n",
       "    <tr style=\"text-align: right;\">\n",
       "      <th></th>\n",
       "      <th>0</th>\n",
       "      <th>1</th>\n",
       "      <th>2</th>\n",
       "    </tr>\n",
       "  </thead>\n",
       "  <tbody>\n",
       "    <tr>\n",
       "      <th>A</th>\n",
       "      <td>1</td>\n",
       "      <td>2</td>\n",
       "      <td>3</td>\n",
       "    </tr>\n",
       "    <tr>\n",
       "      <th>B</th>\n",
       "      <td>4</td>\n",
       "      <td>5</td>\n",
       "      <td>6</td>\n",
       "    </tr>\n",
       "  </tbody>\n",
       "</table>\n",
       "</div>"
      ],
      "text/plain": [
       "   0  1  2\n",
       "A  1  2  3\n",
       "B  4  5  6"
      ]
     },
     "execution_count": 104,
     "metadata": {},
     "output_type": "execute_result"
    }
   ],
   "source": [
    "pd.DataFrame.from_dict({'A': [1, 2, 3], 'B': [4, 5, 6]}, orient='index')\n"
   ]
  },
  {
   "cell_type": "code",
   "execution_count": 169,
   "metadata": {},
   "outputs": [],
   "source": [
    "import json\n",
    "class BankAccount:\n",
    "    def __init__(self, balance=0):\n",
    "        self.__balance = balance\n",
    "        \n",
    "    def withdraw(self, amount):\n",
    "        self.__balance -= amount\n",
    "        \n",
    "    def to_json(self, filename):\n",
    "        print('Serializing to disk')\n",
    "        balance = json.dumps(filename)\n",
    "\n",
    "    @classmethod\n",
    "    def from_json(cls, filename):\n",
    "        print('Deserializing from disk')\n",
    "        balance = json.loads(filename)\n",
    "        account = cls(balance)   # BankAccount or a subclass\n",
    "        return account"
   ]
  },
  {
   "cell_type": "code",
   "execution_count": 170,
   "metadata": {},
   "outputs": [],
   "source": [
    "account = BankAccount(10**5)"
   ]
  },
  {
   "cell_type": "code",
   "execution_count": 171,
   "metadata": {},
   "outputs": [
    {
     "name": "stdout",
     "output_type": "stream",
     "text": [
      "Serializing to disk\n"
     ]
    }
   ],
   "source": [
    "account.to_json('account.json')\n"
   ]
  },
  {
   "cell_type": "code",
   "execution_count": 172,
   "metadata": {},
   "outputs": [],
   "source": [
    "# BankAccount.from_json('account.json')"
   ]
  },
  {
   "cell_type": "code",
   "execution_count": 185,
   "metadata": {},
   "outputs": [],
   "source": [
    "!cp -r Materials/08*  Materials/extras/BeyondPEP8/* ./"
   ]
  },
  {
   "cell_type": "code",
   "execution_count": 186,
   "metadata": {},
   "outputs": [
    {
     "name": "stdout",
     "output_type": "stream",
     "text": [
      "/home/jovyan\n"
     ]
    }
   ],
   "source": [
    "%cd"
   ]
  },
  {
   "cell_type": "code",
   "execution_count": 187,
   "metadata": {},
   "outputs": [],
   "source": [
    "!cp -r Materials/08*  Materials/extras/BeyondPEP8/* ./"
   ]
  },
  {
   "cell_type": "code",
   "execution_count": 188,
   "metadata": {},
   "outputs": [],
   "source": [
    "# %load rt_ugly.py\n",
    "#!/usr/bin/env python\n",
    "\"\"\"\n",
    "Ugly script to iterate through a routing table and print routes.\n",
    "\n",
    "Lightly modified version of code from Raymond Hettinger's PyCon 2015 talk:\n",
    "\n",
    "    \"Beyond PEP8 -- Best practices for beautiful intelligible code\"\n",
    "\n",
    "This code was originally transliterated from Java into Python. In several\n",
    "respects it still looks like Java code. In his talk, Hettinger explains how\n",
    "it can be made much more Pythonic.\n",
    "\n",
    "Quote from the talk:\n",
    "\n",
    "> Pythonic means \"coding beautifully in harmony with\n",
    ">   the language to get the maximum benefits from Python\".  Learn to recognize\n",
    ">   non-pythonic APIs and to recognize good code.  Don't get distracted by PEP 8.\n",
    ">   Focus first on Pythonic versus NonPythonic (P vs NP).  When needed, write\n",
    ">   an adapter class to convert from the former to the latter.\n",
    "\n",
    "    * Avoid unnecessary packaging in favor of simpler imports\n",
    "    * Create custom exceptions\n",
    "    * Use properties instead of getter methods\n",
    "    * Create a context manager for recurring set-up and teardown logic\n",
    "    * Use magic methods:\n",
    "          __len__ instead of getSize()\n",
    "          __getitem__ instead of getRouteByIndex()\n",
    "          make the table iterable\n",
    "    * Add good __repr__ for better debuggability\n",
    "'''\n",
    "\n",
    "\"\"\"\n",
    "\n",
    "from __future__ import print_function\n",
    "\n",
    "import jnettool.tools.elements\n",
    "from jnettool.tools import RoutingTable\n",
    "\n",
    "ne=jnettool.tools.elements.NetworkElement( '171.0.2.45' )\n",
    "try:\n",
    "    routing_table=ne.getRoutingTable()  # fetch table\n",
    "\n",
    "except jnettool.tools.elements.MissingVar:\n",
    "  # Record table fault\n",
    "  logging.exception( '''No routing table found''' )\n",
    "  # Undo partial changes\n",
    "  ne.cleanup( '''rollback''' )\n",
    "\n",
    "else:\n",
    "    num_routes=routing_table.getSize()   # determine table size\n",
    "    for RToffset in range ( num_routes ):\n",
    "           route=routing_table.getRouteByIndex( RToffset )\n",
    "           name=route.getName()       # route name\n",
    "           ipaddr=route.getIPAddr()          # ip address\n",
    "           print(\"%15s -> %s\"% (name,ipaddr)) # format nicely\n",
    "finally:\n",
    "    ne.cleanup( '''commit''' ) # lockin changes\n",
    "    ne.disconnect()\n"
   ]
  },
  {
   "cell_type": "code",
   "execution_count": 191,
   "metadata": {},
   "outputs": [
    {
     "name": "stdout",
     "output_type": "stream",
     "text": [
      "Creating NetworkElement(171.0.2.45)\n",
      "         route1 -> 25.21.1.6\n",
      "         route2 -> 25.21.1.7\n",
      "Messages: commit\n",
      "Disconnecting ...\n"
     ]
    }
   ],
   "source": [
    "!python rt_ugly.py"
   ]
  },
  {
   "cell_type": "code",
   "execution_count": 190,
   "metadata": {},
   "outputs": [
    {
     "name": "stdout",
     "output_type": "stream",
     "text": [
      "\u001b[01;34mjnettool\u001b[00m\n",
      "├── __init__.py\n",
      "├── \u001b[01;34m__pycache__\u001b[00m\n",
      "│   └── __init__.cpython-38.pyc\n",
      "└── \u001b[01;34mtools\u001b[00m\n",
      "    ├── \u001b[01;34melements\u001b[00m\n",
      "    │   ├── __init__.py\n",
      "    │   └── \u001b[01;34m__pycache__\u001b[00m\n",
      "    │       └── __init__.cpython-38.pyc\n",
      "    ├── __init__.py\n",
      "    └── \u001b[01;34m__pycache__\u001b[00m\n",
      "        └── __init__.cpython-38.pyc\n",
      "\n",
      "5 directories, 6 files\n"
     ]
    }
   ],
   "source": [
    "!tree jnettool"
   ]
  },
  {
   "cell_type": "code",
   "execution_count": 193,
   "metadata": {},
   "outputs": [
    {
     "name": "stdout",
     "output_type": "stream",
     "text": [
      "Creating NetworkElement(171.0.2.45)\n",
      "         route1 -> 25.21.1.6\n",
      "         route2 -> 25.21.1.7\n",
      "Messages: commit\n",
      "Disconnecting ...\n"
     ]
    }
   ],
   "source": [
    "\n",
    "from __future__ import print_function\n",
    "\n",
    "import jnettool.tools.elements\n",
    "from jnettool.tools import RoutingTable\n",
    "\n",
    "ne=jnettool.tools.elements.NetworkElement( '171.0.2.45' )\n",
    "try:\n",
    "    routing_table=ne.getRoutingTable()  # fetch table\n",
    "\n",
    "except jnettool.tools.elements.MissingVar:\n",
    "  # Record table fault\n",
    "  logging.exception( '''No routing table found''' )\n",
    "  # Undo partial changes\n",
    "  ne.cleanup( '''rollback''' )\n",
    "\n",
    "else:\n",
    "    num_routes=routing_table.getSize()   # determine table size\n",
    "    for RToffset in range ( num_routes ):\n",
    "           route=routing_table.getRouteByIndex( RToffset )\n",
    "           name=route.getName()       # route name\n",
    "           ipaddr=route.getIPAddr()          # ip address\n",
    "           print(\"%15s -> %s\"% (name,ipaddr)) # format nicely\n",
    "finally:\n",
    "    ne.cleanup( '''commit''' ) # lockin changes\n",
    "    ne.disconnect()\n"
   ]
  },
  {
   "cell_type": "code",
   "execution_count": 194,
   "metadata": {},
   "outputs": [
    {
     "name": "stdout",
     "output_type": "stream",
     "text": [
      "Creating NetworkElement(171.0.2.45)\n",
      "         route1 -> 25.21.1.6\n",
      "         route2 -> 25.21.1.7\n",
      "Messages: commit\n",
      "Disconnecting ...\n"
     ]
    }
   ],
   "source": [
    "!python rt_ugly.py"
   ]
  },
  {
   "cell_type": "code",
   "execution_count": 196,
   "metadata": {},
   "outputs": [
    {
     "name": "stdout",
     "output_type": "stream",
     "text": [
      "Creating NetworkElement(171.0.2.45)\n",
      "         route1 -> 25.21.1.6\n",
      "         route2 -> 25.21.1.7\n",
      "Messages: commit\n",
      "Disconnecting ...\n"
     ]
    }
   ],
   "source": [
    "!python rt_elegant.py"
   ]
  },
  {
   "cell_type": "code",
   "execution_count": null,
   "metadata": {},
   "outputs": [],
   "source": []
  }
 ],
 "metadata": {
  "kernelspec": {
   "display_name": "Python 3",
   "language": "python",
   "name": "python3"
  },
  "language_info": {
   "codemirror_mode": {
    "name": "ipython",
    "version": 3
   },
   "file_extension": ".py",
   "mimetype": "text/x-python",
   "name": "python",
   "nbconvert_exporter": "python",
   "pygments_lexer": "ipython3",
   "version": "3.8.4"
  }
 },
 "nbformat": 4,
 "nbformat_minor": 4
}
