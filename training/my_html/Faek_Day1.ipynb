{
 "cells": [
  {
   "cell_type": "code",
   "execution_count": null,
   "metadata": {},
   "outputs": [],
   "source": [
    "- immutable:\n",
    "int float str tuple fronzenset frozedict\n",
    "mutable \n",
    "list set dict array (numPy) dataframe (pandas)"
   ]
  },
  {
   "cell_type": "code",
   "execution_count": 2,
   "metadata": {},
   "outputs": [
    {
     "data": {
      "text/plain": [
       "'9c48f2a4023ba27471a8fa259a000fa4'"
      ]
     },
     "execution_count": 2,
     "metadata": {},
     "output_type": "execute_result"
    }
   ],
   "source": [
    "import hashlib\n",
    "hasher = hashlib.md5(b'data goes here')\n",
    "hasher.hexdigest()"
   ]
  },
  {
   "cell_type": "code",
   "execution_count": 15,
   "metadata": {},
   "outputs": [],
   "source": [
    "from pathlib import Path\n",
    "import hashlib\n",
    "def get_hash(filename):\n",
    "    exercise_path = Path(filename)\n",
    "    path_data = exercise_path.read_bytes()\n",
    "    hasher = hashlib.md5(path_data)\n",
    "    return hasher.hexdigest()"
   ]
  },
  {
   "cell_type": "code",
   "execution_count": 16,
   "metadata": {},
   "outputs": [
    {
     "data": {
      "text/plain": [
       "'40836c03a1a2ab405710c52249137392'"
      ]
     },
     "execution_count": 16,
     "metadata": {},
     "output_type": "execute_result"
    }
   ],
   "source": [
    "get_hash('/Data/zen.utf16.txt')"
   ]
  },
  {
   "cell_type": "code",
   "execution_count": 17,
   "metadata": {},
   "outputs": [
    {
     "name": "stdout",
     "output_type": "stream",
     "text": [
      "40836c03a1a2ab405710c52249137392  /Data/zen.utf16.txt\n"
     ]
    }
   ],
   "source": [
    "!md5sum /Data/zen.utf16.txt"
   ]
  },
  {
   "cell_type": "code",
   "execution_count": null,
   "metadata": {},
   "outputs": [],
   "source": [
    "conn = f'{dbtype}://{user}'"
   ]
  },
  {
   "cell_type": "code",
   "execution_count": 22,
   "metadata": {},
   "outputs": [],
   "source": [
    "import pandas as pd\n",
    "from collections import namedtuple\n",
    "\n",
    "df = pd.read_csv('/Data/forbes.csv')\n",
    "def df_stats(df):\n",
    "   df_sdhape = df.shape\n",
    "   return Dfstats(df_shape[0], df_shape[1], df.index.duplicated().sum(), df.memory_usage(deep=True).sum())"
   ]
  },
  {
   "cell_type": "code",
   "execution_count": 30,
   "metadata": {},
   "outputs": [],
   "source": [
    "class BankAccount:\n",
    "    def __init__(self, balance=0)\n",
    "    def withdraw(account, amount):\n",
    "        account.balance -= amount    "
   ]
  },
  {
   "cell_type": "code",
   "execution_count": 31,
   "metadata": {},
   "outputs": [],
   "source": [
    "savings = BankAccount()"
   ]
  },
  {
   "cell_type": "code",
   "execution_count": 32,
   "metadata": {},
   "outputs": [],
   "source": [
    "savings.balance = 1000"
   ]
  },
  {
   "cell_type": "code",
   "execution_count": 33,
   "metadata": {},
   "outputs": [],
   "source": [
    "savings.withdraw(100)"
   ]
  },
  {
   "cell_type": "code",
   "execution_count": 34,
   "metadata": {},
   "outputs": [
    {
     "data": {
      "text/plain": [
       "900"
      ]
     },
     "execution_count": 34,
     "metadata": {},
     "output_type": "execute_result"
    }
   ],
   "source": [
    "savings.balance"
   ]
  },
  {
   "cell_type": "code",
   "execution_count": 49,
   "metadata": {},
   "outputs": [],
   "source": [
    "class Faek_Card:\n",
    "    def is_royal(self):\n",
    "        for card in self:\n",
    "           if card in {'valet', 'queen', 'king'}:\n",
    "            return True\n",
    "           else:\n",
    "            return False\n",
    "    def bj_value(self,card):\n",
    "        value=0\n",
    "        if card == one:\n",
    "          value == 1\n",
    "        elif card == two:\n",
    "          value = 2\n",
    "        elif card == three:\n",
    "          value = 3\n",
    "        elif card == four:\n",
    "          value = 2\n",
    "        elif card == five:\n",
    "          value == 5\n",
    "        elif card == six:\n",
    "          value == 6\n",
    "        elif card == seven:\n",
    "          value == 7\n",
    "        elif card == eight:\n",
    "          value == 8\n",
    "        elif card == nine:\n",
    "          value == 9\n",
    "        elif card == valet:\n",
    "          value == 10\n",
    "        elif card == queen:\n",
    "          value == 10\n",
    "        elif card == king:\n",
    "          value == 10\n",
    "        return value"
   ]
  },
  {
   "cell_type": "code",
   "execution_count": 67,
   "metadata": {},
   "outputs": [],
   "source": [
    "class Card:\n",
    "    \"\"\"\n",
    "    A playing card.\n",
    "    \n",
    "    Parameters\n",
    "    ----------\n",
    "    rank: a string {\"A\", \"2\", ..., \"10\", \"J\", \"Q\", \"K\"}\n",
    "    suit: a string {'♣', '♦', '♥', '♠'}\n",
    "    \n",
    "    \"\"\"\n",
    "    SUITS = ['♣', '♦', '♥', '♠']\n",
    "    RANKS = ['A'] + [str(val) for val in range(2, 11)] + ['J', 'Q', 'K']\n",
    "    \n",
    "    def __init__(self, rank: str, suit: str):\n",
    "        self._rank = rank\n",
    "        self._suit = suit\n",
    "        \n",
    "    def is_royal(self) -> bool:\n",
    "        if self._rank in {'J', 'Q', 'K'}:\n",
    "            return True\n",
    "        else:\n",
    "            return False\n",
    "        \n",
    "    def is_ace(self) -> bool:\n",
    "        return self._rank == 'A'\n",
    "    \n",
    "    def bj_value(self) -> int:\n",
    "        if self.is_royal():\n",
    "            return 10\n",
    "        elif self.is_ace():\n",
    "            return 1\n",
    "        else:\n",
    "            return int(self._rank)\n",
    "\n",
    "    def __repr__(self) -> str:\n",
    "        return f\"Card(rank={self._rank}, suit={self._suit})\""
   ]
  },
  {
   "cell_type": "code",
   "execution_count": 65,
   "metadata": {},
   "outputs": [],
   "source": [
    "def test_Card():\n",
    "    three_of_diamonds = Card('3', '♦')\n",
    "    assert not three_of_diamonds.is_royal()\n",
    "    \n",
    "    ace_of_spades = Card('A', '♠')\n",
    "    assert ace_of_spades.bj_value() == 1\n",
    "\n",
    "    three_of_spades = Card('3', '♠')\n",
    "    assert three_of_spades.bj_value() == 3"
   ]
  },
  {
   "cell_type": "code",
   "execution_count": 66,
   "metadata": {},
   "outputs": [],
   "source": [
    "test_Card()"
   ]
  },
  {
   "cell_type": "code",
   "execution_count": 70,
   "metadata": {},
   "outputs": [],
   "source": [
    "deck = []"
   ]
  },
  {
   "cell_type": "code",
   "execution_count": 71,
   "metadata": {},
   "outputs": [],
   "source": [
    "for rank in Card.RANKS:\n",
    "    for suit in Card.SUITS:\n",
    "        card = Card(rank, suit)\n",
    "        deck.append(card)"
   ]
  },
  {
   "cell_type": "code",
   "execution_count": 72,
   "metadata": {},
   "outputs": [],
   "source": [
    "from itertools import product\n",
    "deck = [Card(rank, suit)\n",
    "        for (rank, suit) in product(Card.RANKS, Card.SUITS)]"
   ]
  },
  {
   "cell_type": "code",
   "execution_count": 73,
   "metadata": {},
   "outputs": [],
   "source": [
    "assert len(deck) == 52"
   ]
  },
  {
   "cell_type": "code",
   "execution_count": 74,
   "metadata": {},
   "outputs": [
    {
     "data": {
      "text/plain": [
       "[Card(rank=A, suit=♣),\n",
       " Card(rank=A, suit=♦),\n",
       " Card(rank=A, suit=♥),\n",
       " Card(rank=A, suit=♠),\n",
       " Card(rank=2, suit=♣),\n",
       " Card(rank=2, suit=♦),\n",
       " Card(rank=2, suit=♥),\n",
       " Card(rank=2, suit=♠),\n",
       " Card(rank=3, suit=♣),\n",
       " Card(rank=3, suit=♦),\n",
       " Card(rank=3, suit=♥),\n",
       " Card(rank=3, suit=♠),\n",
       " Card(rank=4, suit=♣),\n",
       " Card(rank=4, suit=♦),\n",
       " Card(rank=4, suit=♥),\n",
       " Card(rank=4, suit=♠),\n",
       " Card(rank=5, suit=♣),\n",
       " Card(rank=5, suit=♦),\n",
       " Card(rank=5, suit=♥),\n",
       " Card(rank=5, suit=♠),\n",
       " Card(rank=6, suit=♣),\n",
       " Card(rank=6, suit=♦),\n",
       " Card(rank=6, suit=♥),\n",
       " Card(rank=6, suit=♠),\n",
       " Card(rank=7, suit=♣),\n",
       " Card(rank=7, suit=♦),\n",
       " Card(rank=7, suit=♥),\n",
       " Card(rank=7, suit=♠),\n",
       " Card(rank=8, suit=♣),\n",
       " Card(rank=8, suit=♦),\n",
       " Card(rank=8, suit=♥),\n",
       " Card(rank=8, suit=♠),\n",
       " Card(rank=9, suit=♣),\n",
       " Card(rank=9, suit=♦),\n",
       " Card(rank=9, suit=♥),\n",
       " Card(rank=9, suit=♠),\n",
       " Card(rank=10, suit=♣),\n",
       " Card(rank=10, suit=♦),\n",
       " Card(rank=10, suit=♥),\n",
       " Card(rank=10, suit=♠),\n",
       " Card(rank=J, suit=♣),\n",
       " Card(rank=J, suit=♦),\n",
       " Card(rank=J, suit=♥),\n",
       " Card(rank=J, suit=♠),\n",
       " Card(rank=Q, suit=♣),\n",
       " Card(rank=Q, suit=♦),\n",
       " Card(rank=Q, suit=♥),\n",
       " Card(rank=Q, suit=♠),\n",
       " Card(rank=K, suit=♣),\n",
       " Card(rank=K, suit=♦),\n",
       " Card(rank=K, suit=♥),\n",
       " Card(rank=K, suit=♠)]"
      ]
     },
     "execution_count": 74,
     "metadata": {},
     "output_type": "execute_result"
    }
   ],
   "source": [
    "deck"
   ]
  },
  {
   "cell_type": "code",
   "execution_count": 75,
   "metadata": {},
   "outputs": [],
   "source": [
    "from random import sample\n",
    "hands = [sample(deck, 3) for _ in range(10**6)]"
   ]
  },
  {
   "cell_type": "code",
   "execution_count": 76,
   "metadata": {},
   "outputs": [],
   "source": [
    "# For Python < 3.9:\n",
    "from __future__ import annotations\n",
    "\n",
    "def is_bust(hand: list[Card]) -> bool:\n",
    "    \"\"\"\n",
    "    Whether the sum of the values of the given Card objects in Blackjack \n",
    "    is > 21\n",
    "    \"\"\"\n",
    "    return sum([card.bj_value() for card in hand]) > 21"
   ]
  },
  {
   "cell_type": "code",
   "execution_count": 81,
   "metadata": {},
   "outputs": [
    {
     "data": {
      "text/plain": [
       "[Card(rank=A, suit=♥), Card(rank=K, suit=♣), Card(rank=8, suit=♥)]"
      ]
     },
     "execution_count": 81,
     "metadata": {},
     "output_type": "execute_result"
    }
   ],
   "source": [
    "hand = sample(deck, 3)\n",
    "\n",
    "hand"
   ]
  },
  {
   "cell_type": "code",
   "execution_count": 82,
   "metadata": {},
   "outputs": [
    {
     "data": {
      "text/plain": [
       "False"
      ]
     },
     "execution_count": 82,
     "metadata": {},
     "output_type": "execute_result"
    }
   ],
   "source": [
    "is_bust(hand)"
   ]
  },
  {
   "cell_type": "code",
   "execution_count": 83,
   "metadata": {},
   "outputs": [],
   "source": [
    "count = 0"
   ]
  },
  {
   "cell_type": "code",
   "execution_count": 84,
   "metadata": {},
   "outputs": [],
   "source": [
    "for hand in hands:\n",
    "    if is_bust(hand):\n",
    "        count += 1"
   ]
  },
  {
   "cell_type": "code",
   "execution_count": 85,
   "metadata": {},
   "outputs": [
    {
     "data": {
      "text/plain": [
       "0.379159"
      ]
     },
     "execution_count": 85,
     "metadata": {},
     "output_type": "execute_result"
    }
   ],
   "source": [
    "count / len(hands)"
   ]
  },
  {
   "cell_type": "code",
   "execution_count": 87,
   "metadata": {},
   "outputs": [],
   "source": [
    "count = 0"
   ]
  },
  {
   "cell_type": "code",
   "execution_count": 89,
   "metadata": {},
   "outputs": [
    {
     "data": {
      "text/plain": [
       "0.379159"
      ]
     },
     "execution_count": 89,
     "metadata": {},
     "output_type": "execute_result"
    }
   ],
   "source": [
    "from statistics import mean\n",
    "mean(is_bust(hand) for hand in hands)"
   ]
  },
  {
   "cell_type": "code",
   "execution_count": 11,
   "metadata": {},
   "outputs": [],
   "source": [
    "from calendar import isleap\n",
    "\n",
    "class LeapYearSequence:\n",
    "    def __init__(self, start):\n",
    "        self._cur = start - 1\n",
    "        \n",
    "    def __iter__(self):\n",
    "        return self\n",
    "\n",
    "    def __next__(self):\n",
    "        while True:\n",
    "            x = self._cur\n",
    "            self._cur += 1\n",
    "            if isleap(x):\n",
    "                break\n",
    "        return x"
   ]
  },
  {
   "cell_type": "code",
   "execution_count": 13,
   "metadata": {},
   "outputs": [
    {
     "name": "stdout",
     "output_type": "stream",
     "text": [
      "2012\n",
      "2016\n",
      "2020\n",
      "2024\n",
      "2028\n",
      "2032\n",
      "2036\n",
      "2040\n",
      "2044\n",
      "2048\n",
      "2052\n",
      "2056\n"
     ]
    }
   ],
   "source": [
    "for i, leap_year in enumerate(LeapYearSequence(start=2010)):\n",
    "    print(leap_year)\n",
    "    if i > 10:\n",
    "        break"
   ]
  },
  {
   "cell_type": "code",
   "execution_count": null,
   "metadata": {},
   "outputs": [],
   "source": []
  }
 ],
 "metadata": {
  "kernelspec": {
   "display_name": "Python 3",
   "language": "python",
   "name": "python3"
  },
  "language_info": {
   "codemirror_mode": {
    "name": "ipython",
    "version": 3
   },
   "file_extension": ".py",
   "mimetype": "text/x-python",
   "name": "python",
   "nbconvert_exporter": "python",
   "pygments_lexer": "ipython3",
   "version": "3.8.4"
  }
 },
 "nbformat": 4,
 "nbformat_minor": 4
}
